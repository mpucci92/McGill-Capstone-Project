{
 "cells": [
  {
   "cell_type": "markdown",
   "metadata": {},
   "source": [
    "### Section 1: Importing Libraries ###"
   ]
  },
  {
   "cell_type": "code",
   "execution_count": 1,
   "metadata": {},
   "outputs": [],
   "source": [
    "import pandas as pd\n",
    "import numpy as np\n",
    "import sys, os\n",
    "from haversine import haversine\n",
    "import seaborn as sns\n",
    "import matplotlib.pyplot as plt\n",
    "from datetime import datetime, timedelta\n",
    "import time\n",
    "from geopy.geocoders import Nominatim\n",
    "from geopy.exc import GeocoderTimedOut\n"
   ]
  },
  {
   "cell_type": "markdown",
   "metadata": {},
   "source": [
    "### Section 2 - Importing data - Coordinates Dataset ###"
   ]
  },
  {
   "cell_type": "code",
   "execution_count": 2,
   "metadata": {},
   "outputs": [],
   "source": [
    "#Load the first X lines - law of large numbers good enough approximation of the dataset. \n",
    "\n",
    "path = \"D:\\Itinerum Data\\MTLTrajet2018\\MTLTrajet2018\\coordinates.csv\"\n",
    "num_rows = 500000\n",
    "\n",
    "data_path = path\n",
    "\n",
    "raw = pd.read_csv(data_path, nrows=num_rows) \n"
   ]
  },
  {
   "cell_type": "markdown",
   "metadata": {},
   "source": [
    "### Section 3 - Cleaning the data - Dropping useless columns ###"
   ]
  },
  {
   "cell_type": "code",
   "execution_count": 3,
   "metadata": {},
   "outputs": [
    {
     "data": {
      "text/plain": [
       "uuid              object\n",
       "latitude         float64\n",
       "longitude        float64\n",
       "speed            float64\n",
       "timestamp_UTC     object\n",
       "dtype: object"
      ]
     },
     "execution_count": 3,
     "metadata": {},
     "output_type": "execute_result"
    }
   ],
   "source": [
    "# Dropping useless columns #\n",
    "\n",
    "columns_todrop = ['altitude','direction','mode_detected','point_type','h_accuracy','v_accuracy','acceleration_x','acceleration_y','acceleration_z']\n",
    "\n",
    "raw.drop(columns_todrop,axis=1,inplace=True)\n",
    "\n",
    "# Confirming columns that were dropped are dropped #\n",
    "\n",
    "raw.dtypes"
   ]
  },
  {
   "cell_type": "markdown",
   "metadata": {},
   "source": [
    "### Renaming Speed Column to Instantaneous Speed ###"
   ]
  },
  {
   "cell_type": "code",
   "execution_count": 4,
   "metadata": {},
   "outputs": [],
   "source": [
    "raw.rename(columns={\"speed\":'instantaneous_speed'},inplace=True)"
   ]
  },
  {
   "cell_type": "markdown",
   "metadata": {},
   "source": [
    "### Processing timestamp columns into datetime object type ###"
   ]
  },
  {
   "cell_type": "code",
   "execution_count": 5,
   "metadata": {},
   "outputs": [
    {
     "data": {
      "text/plain": [
       "uuid                           object\n",
       "latitude                      float64\n",
       "longitude                     float64\n",
       "instantaneous_speed           float64\n",
       "timestamp_UTC          datetime64[ns]\n",
       "dtype: object"
      ]
     },
     "execution_count": 5,
     "metadata": {},
     "output_type": "execute_result"
    }
   ],
   "source": [
    "def convert(time):\n",
    "    return datetime.strptime(time, '%Y-%m-%dT%H:%M:%S')\n",
    "\n",
    "temp = raw.timestamp_UTC.apply(convert)\n",
    "\n",
    "raw.drop(['timestamp_UTC'],axis=1,inplace=True)\n",
    "\n",
    "raw['timestamp_UTC'] = temp\n",
    "\n",
    "raw.dtypes"
   ]
  },
  {
   "cell_type": "markdown",
   "metadata": {},
   "source": [
    "### Sorting the data by Unique User ID and timestamp ###"
   ]
  },
  {
   "cell_type": "code",
   "execution_count": 6,
   "metadata": {},
   "outputs": [
    {
     "data": {
      "text/html": [
       "<div>\n",
       "<style scoped>\n",
       "    .dataframe tbody tr th:only-of-type {\n",
       "        vertical-align: middle;\n",
       "    }\n",
       "\n",
       "    .dataframe tbody tr th {\n",
       "        vertical-align: top;\n",
       "    }\n",
       "\n",
       "    .dataframe thead th {\n",
       "        text-align: right;\n",
       "    }\n",
       "</style>\n",
       "<table border=\"1\" class=\"dataframe\">\n",
       "  <thead>\n",
       "    <tr style=\"text-align: right;\">\n",
       "      <th></th>\n",
       "      <th>uuid</th>\n",
       "      <th>latitude</th>\n",
       "      <th>longitude</th>\n",
       "      <th>instantaneous_speed</th>\n",
       "      <th>timestamp_UTC</th>\n",
       "    </tr>\n",
       "  </thead>\n",
       "  <tbody>\n",
       "    <tr>\n",
       "      <th>4505</th>\n",
       "      <td>003502B3-82CE-46C3-96E1-68F92A14C9D5</td>\n",
       "      <td>45.513693</td>\n",
       "      <td>-73.572468</td>\n",
       "      <td>0.821313</td>\n",
       "      <td>2018-09-24 12:48:15</td>\n",
       "    </tr>\n",
       "    <tr>\n",
       "      <th>17894</th>\n",
       "      <td>003502B3-82CE-46C3-96E1-68F92A14C9D5</td>\n",
       "      <td>45.515821</td>\n",
       "      <td>-73.570871</td>\n",
       "      <td>1.635770</td>\n",
       "      <td>2018-09-24 17:08:41</td>\n",
       "    </tr>\n",
       "    <tr>\n",
       "      <th>17932</th>\n",
       "      <td>003502B3-82CE-46C3-96E1-68F92A14C9D5</td>\n",
       "      <td>45.516021</td>\n",
       "      <td>-73.570669</td>\n",
       "      <td>1.403768</td>\n",
       "      <td>2018-09-24 17:09:01</td>\n",
       "    </tr>\n",
       "    <tr>\n",
       "      <th>17978</th>\n",
       "      <td>003502B3-82CE-46C3-96E1-68F92A14C9D5</td>\n",
       "      <td>45.516222</td>\n",
       "      <td>-73.570820</td>\n",
       "      <td>0.911125</td>\n",
       "      <td>2018-09-24 17:09:28</td>\n",
       "    </tr>\n",
       "    <tr>\n",
       "      <th>18008</th>\n",
       "      <td>003502B3-82CE-46C3-96E1-68F92A14C9D5</td>\n",
       "      <td>45.516353</td>\n",
       "      <td>-73.571106</td>\n",
       "      <td>1.105285</td>\n",
       "      <td>2018-09-24 17:09:43</td>\n",
       "    </tr>\n",
       "  </tbody>\n",
       "</table>\n",
       "</div>"
      ],
      "text/plain": [
       "                                       uuid   latitude  longitude  \\\n",
       "4505   003502B3-82CE-46C3-96E1-68F92A14C9D5  45.513693 -73.572468   \n",
       "17894  003502B3-82CE-46C3-96E1-68F92A14C9D5  45.515821 -73.570871   \n",
       "17932  003502B3-82CE-46C3-96E1-68F92A14C9D5  45.516021 -73.570669   \n",
       "17978  003502B3-82CE-46C3-96E1-68F92A14C9D5  45.516222 -73.570820   \n",
       "18008  003502B3-82CE-46C3-96E1-68F92A14C9D5  45.516353 -73.571106   \n",
       "\n",
       "       instantaneous_speed       timestamp_UTC  \n",
       "4505              0.821313 2018-09-24 12:48:15  \n",
       "17894             1.635770 2018-09-24 17:08:41  \n",
       "17932             1.403768 2018-09-24 17:09:01  \n",
       "17978             0.911125 2018-09-24 17:09:28  \n",
       "18008             1.105285 2018-09-24 17:09:43  "
      ]
     },
     "execution_count": 6,
     "metadata": {},
     "output_type": "execute_result"
    }
   ],
   "source": [
    "columns_tosort = ['uuid','timestamp_UTC']\n",
    "raw = raw.sort_values(columns_tosort) \n",
    "\n",
    "raw.head()"
   ]
  },
  {
   "cell_type": "markdown",
   "metadata": {},
   "source": [
    "### Resetting the index to follow sequential order ###"
   ]
  },
  {
   "cell_type": "code",
   "execution_count": 7,
   "metadata": {},
   "outputs": [
    {
     "data": {
      "text/html": [
       "<div>\n",
       "<style scoped>\n",
       "    .dataframe tbody tr th:only-of-type {\n",
       "        vertical-align: middle;\n",
       "    }\n",
       "\n",
       "    .dataframe tbody tr th {\n",
       "        vertical-align: top;\n",
       "    }\n",
       "\n",
       "    .dataframe thead th {\n",
       "        text-align: right;\n",
       "    }\n",
       "</style>\n",
       "<table border=\"1\" class=\"dataframe\">\n",
       "  <thead>\n",
       "    <tr style=\"text-align: right;\">\n",
       "      <th></th>\n",
       "      <th>uuid</th>\n",
       "      <th>latitude</th>\n",
       "      <th>longitude</th>\n",
       "      <th>instantaneous_speed</th>\n",
       "      <th>timestamp_UTC</th>\n",
       "    </tr>\n",
       "  </thead>\n",
       "  <tbody>\n",
       "    <tr>\n",
       "      <th>0</th>\n",
       "      <td>003502B3-82CE-46C3-96E1-68F92A14C9D5</td>\n",
       "      <td>45.513693</td>\n",
       "      <td>-73.572468</td>\n",
       "      <td>0.821313</td>\n",
       "      <td>2018-09-24 12:48:15</td>\n",
       "    </tr>\n",
       "    <tr>\n",
       "      <th>1</th>\n",
       "      <td>003502B3-82CE-46C3-96E1-68F92A14C9D5</td>\n",
       "      <td>45.515821</td>\n",
       "      <td>-73.570871</td>\n",
       "      <td>1.635770</td>\n",
       "      <td>2018-09-24 17:08:41</td>\n",
       "    </tr>\n",
       "    <tr>\n",
       "      <th>2</th>\n",
       "      <td>003502B3-82CE-46C3-96E1-68F92A14C9D5</td>\n",
       "      <td>45.516021</td>\n",
       "      <td>-73.570669</td>\n",
       "      <td>1.403768</td>\n",
       "      <td>2018-09-24 17:09:01</td>\n",
       "    </tr>\n",
       "    <tr>\n",
       "      <th>3</th>\n",
       "      <td>003502B3-82CE-46C3-96E1-68F92A14C9D5</td>\n",
       "      <td>45.516222</td>\n",
       "      <td>-73.570820</td>\n",
       "      <td>0.911125</td>\n",
       "      <td>2018-09-24 17:09:28</td>\n",
       "    </tr>\n",
       "    <tr>\n",
       "      <th>4</th>\n",
       "      <td>003502B3-82CE-46C3-96E1-68F92A14C9D5</td>\n",
       "      <td>45.516353</td>\n",
       "      <td>-73.571106</td>\n",
       "      <td>1.105285</td>\n",
       "      <td>2018-09-24 17:09:43</td>\n",
       "    </tr>\n",
       "  </tbody>\n",
       "</table>\n",
       "</div>"
      ],
      "text/plain": [
       "                                   uuid   latitude  longitude  \\\n",
       "0  003502B3-82CE-46C3-96E1-68F92A14C9D5  45.513693 -73.572468   \n",
       "1  003502B3-82CE-46C3-96E1-68F92A14C9D5  45.515821 -73.570871   \n",
       "2  003502B3-82CE-46C3-96E1-68F92A14C9D5  45.516021 -73.570669   \n",
       "3  003502B3-82CE-46C3-96E1-68F92A14C9D5  45.516222 -73.570820   \n",
       "4  003502B3-82CE-46C3-96E1-68F92A14C9D5  45.516353 -73.571106   \n",
       "\n",
       "   instantaneous_speed       timestamp_UTC  \n",
       "0             0.821313 2018-09-24 12:48:15  \n",
       "1             1.635770 2018-09-24 17:08:41  \n",
       "2             1.403768 2018-09-24 17:09:01  \n",
       "3             0.911125 2018-09-24 17:09:28  \n",
       "4             1.105285 2018-09-24 17:09:43  "
      ]
     },
     "execution_count": 7,
     "metadata": {},
     "output_type": "execute_result"
    }
   ],
   "source": [
    "raw.reset_index(drop=True,inplace=True)\n",
    "raw.head()"
   ]
  },
  {
   "cell_type": "markdown",
   "metadata": {},
   "source": [
    "### Value Counts for the unique User IDs ###"
   ]
  },
  {
   "cell_type": "code",
   "execution_count": 8,
   "metadata": {},
   "outputs": [],
   "source": [
    "uuid_sortedfrequency = (raw.uuid.value_counts()).index.tolist() # List of UUIDs sorted in descending order by frequency\n",
    "\n",
    "frequency_threshold = 4 \n",
    "\n",
    "uuid_sortedfrequency = raw.uuid.value_counts()[raw.uuid.value_counts()>frequency_threshold].index.tolist()\n"
   ]
  },
  {
   "cell_type": "markdown",
   "metadata": {},
   "source": [
    "#### Section 4: Feature Engineering ###"
   ]
  },
  {
   "cell_type": "code",
   "execution_count": 9,
   "metadata": {},
   "outputs": [],
   "source": [
    "raw = (raw[raw.instantaneous_speed < 40]) # Sorting the speeds to ensure less than 140 km/hour. "
   ]
  },
  {
   "cell_type": "code",
   "execution_count": 10,
   "metadata": {},
   "outputs": [],
   "source": [
    "raw['time_difference'] = raw.timestamp_UTC.diff().dt.seconds + 1   #Time difference is in seconds"
   ]
  },
  {
   "cell_type": "code",
   "execution_count": 11,
   "metadata": {},
   "outputs": [],
   "source": [
    "raw['insta_speed_difference'] = raw.instantaneous_speed.diff() # This will subtract the speed in postiion 2 - position 1"
   ]
  },
  {
   "cell_type": "code",
   "execution_count": 12,
   "metadata": {},
   "outputs": [],
   "source": [
    "raw['instantaneous_acceleration'] = raw.insta_speed_difference / raw.time_difference  # divide the speed difference with the time difference to get the acceleration "
   ]
  },
  {
   "cell_type": "code",
   "execution_count": 13,
   "metadata": {},
   "outputs": [],
   "source": [
    "raw['insta_acceleration_difference'] = raw.instantaneous_acceleration.diff()   # This will subtract the acceleration in position 2 - position 1 "
   ]
  },
  {
   "cell_type": "code",
   "execution_count": 14,
   "metadata": {},
   "outputs": [],
   "source": [
    "raw['instantaneous_jerk'] = raw.insta_acceleration_difference / raw.time_difference  # Jerk (4th derivative of Transportation)  "
   ]
  },
  {
   "cell_type": "code",
   "execution_count": 15,
   "metadata": {},
   "outputs": [],
   "source": [
    "coordinates =  list(zip(raw.latitude, raw.longitude))\n",
    "raw['LatLon'] = coordinates "
   ]
  },
  {
   "cell_type": "code",
   "execution_count": 16,
   "metadata": {},
   "outputs": [],
   "source": [
    "# Identifying the time of the day #\n",
    "\n",
    "def hours(x):\n",
    "    if x>=6 and x<=9:\n",
    "        return 'MR'             # Morning Rush\n",
    "    elif x>=15 and x<=18:\n",
    "        return 'NR'             #Night rush\n",
    "    else:\n",
    "        return 'S' #Stationary\n",
    "    \n",
    "raw['RushhourType'] = raw.timestamp_UTC.dt.hour.apply(hours)  "
   ]
  },
  {
   "cell_type": "code",
   "execution_count": 17,
   "metadata": {},
   "outputs": [],
   "source": [
    "# Identifying when public transit is closed or open #\n",
    "\n",
    "def closed_transit(x):\n",
    "    if x >=1 and x<=5:\n",
    "        return 1        # Closed Transit\n",
    "    else:\n",
    "        return 0        # Open Transit\n",
    "\n",
    "raw['ClosedTransit'] = raw.timestamp_UTC.dt.hour.apply(closed_transit)"
   ]
  },
  {
   "cell_type": "markdown",
   "metadata": {},
   "source": [
    "### Defining the Bearing (Direction) Function ###"
   ]
  },
  {
   "cell_type": "code",
   "execution_count": 18,
   "metadata": {},
   "outputs": [],
   "source": [
    "import math \n",
    "def Bearing(lat1,lon1,lat2,lon2):\n",
    "    dLon = lon2 - lon1;\n",
    "    y = math.sin(dLon) * math.cos(lat2);\n",
    "    x = math.cos(lat1)*math.sin(lat2) - math.sin(lat1)*math.cos(lat2)*math.cos(dLon)\n",
    "    brng = np.degrees(math.atan2(y, x))\n",
    "    if brng < 0:\n",
    "        brng+= 360\n",
    "    return brng  "
   ]
  },
  {
   "cell_type": "markdown",
   "metadata": {},
   "source": [
    "### Adding the Distance between points and Direction between points Features ###"
   ]
  },
  {
   "cell_type": "code",
   "execution_count": 19,
   "metadata": {},
   "outputs": [
    {
     "name": "stderr",
     "output_type": "stream",
     "text": [
      "C:\\ProgramData\\Anaconda3\\lib\\site-packages\\ipykernel_launcher.py:4: FutureWarning: Method .as_matrix will be removed in a future version. Use .values instead.\n",
      "  after removing the cwd from sys.path.\n"
     ]
    }
   ],
   "source": [
    "direction = [np.nan]\n",
    "vals = [np.nan]\n",
    "LL_col = pd.DataFrame()\n",
    "LL_col['LL'] = raw.LatLon.as_matrix()\n",
    "\n",
    "for i in range(1, raw.shape[0]):\n",
    "    \n",
    "    pair1 = LL_col['LL'][i-1]\n",
    "    pair2 = LL_col['LL'][i]\n",
    "    val = (haversine(pair1,pair2,unit='m'))\n",
    "    vals.append(val)\n",
    "    direction_value = Bearing(pair1[0],pair1[1],pair2[0],pair2[1])\n",
    "    direction.append(direction_value)\n",
    "    \n",
    "raw['Distance'] = vals\n",
    "raw['Direction'] = direction"
   ]
  },
  {
   "cell_type": "code",
   "execution_count": 20,
   "metadata": {},
   "outputs": [],
   "source": [
    "raw['Average Velocity'] = raw.Distance/raw.time_difference  # Average Velocity Feature #"
   ]
  },
  {
   "cell_type": "code",
   "execution_count": 21,
   "metadata": {},
   "outputs": [],
   "source": [
    "raw['Average Acceleration'] = raw['Average Velocity'] / raw.time_difference  # Average Accelration Feature #"
   ]
  },
  {
   "cell_type": "code",
   "execution_count": 22,
   "metadata": {},
   "outputs": [],
   "source": [
    "# Determining if point is on a weekday or weekend #\n",
    "\n",
    "raw['Weekends'] = raw.timestamp_UTC.dt.day_name()\n",
    "raw.Weekends = raw.Weekends.replace(to_replace=['Saturday','Sunday'], value=1) # Weekends denoted with value of 1. \n",
    "raw.Weekends = raw.Weekends.replace(to_replace=['Monday','Tuesday','Wednesday','Thursday','Friday'], value=0) # Weekdays denoted with a value of 0. "
   ]
  },
  {
   "cell_type": "code",
   "execution_count": 23,
   "metadata": {},
   "outputs": [],
   "source": [
    "# Determing what time of the day coordinate is in #\n",
    "\n",
    "def time_of_day(x):\n",
    "    if x>= 5 and x<10:\n",
    "        return 'morning'\n",
    "    elif x>=10 and x<12:\n",
    "        return 'lunch'\n",
    "    elif x>=12 and x<16:\n",
    "        return 'afternoon'\n",
    "    elif x>=16 and x<18:\n",
    "        return 'evening'\n",
    "    elif ((x>=18 and x<=24) or (x>24 and x<5)):\n",
    "        return 'night'\n",
    "    else:\n",
    "        return np.nan\n",
    "\n",
    "raw['TimeOfDay'] = raw.timestamp_UTC.dt.hour.apply(time_of_day)"
   ]
  },
  {
   "cell_type": "code",
   "execution_count": 24,
   "metadata": {},
   "outputs": [],
   "source": [
    "# Convert Latitude and Longitude into x,y,z coordinates # \n",
    "\n",
    "x_coordinate = []\n",
    "y_coordinate = []\n",
    "z_coordinate = []\n",
    "\n",
    "R = 6371000 # radius of earth in meters \n",
    "\n",
    "import math \n",
    "for i in range(len(raw)):\n",
    "   \n",
    "    x = R * math.cos(raw.latitude.iloc[i]) * math.cos(raw.longitude.iloc[i])\n",
    "\n",
    "    y = R * math.cos(raw.latitude.iloc[i]) * math.sin(raw.longitude.iloc[i])\n",
    "\n",
    "    z = R * math.sin(raw.latitude.iloc[i])\n",
    "\n",
    "       \n",
    "    x_coordinate.append(x)\n",
    "    y_coordinate.append(y)\n",
    "    z_coordinate.append(z)\n",
    "\n",
    "raw['x_coordinate'] = x_coordinate\n",
    "raw['y_coordinate'] = y_coordinate\n",
    "raw['z_coordinate'] = z_coordinate\n"
   ]
  },
  {
   "cell_type": "markdown",
   "metadata": {},
   "source": [
    "### Fill NaNs with 0's. ###"
   ]
  },
  {
   "cell_type": "code",
   "execution_count": 25,
   "metadata": {},
   "outputs": [],
   "source": [
    "fill_nans = 0\n",
    "raw.fillna(fill_nans,inplace=True)"
   ]
  },
  {
   "cell_type": "markdown",
   "metadata": {},
   "source": [
    "### Section 5: Determining Segment Stops to classify Trip Time Series ### "
   ]
  },
  {
   "cell_type": "markdown",
   "metadata": {},
   "source": [
    "### Part 1: Identifying stops based on prompt_csv dataset ###"
   ]
  },
  {
   "cell_type": "code",
   "execution_count": 26,
   "metadata": {},
   "outputs": [],
   "source": [
    "# sample of 1 unique user ID - TEMP_DF is the new dataframe moving forward #\n",
    "\n",
    "# Select most frequent UUID\n",
    "user_uuid = uuid_sortedfrequency[0]\n",
    "\n",
    "# Manual UUID Selection: \n",
    "#user_uuid = '003502B3-82CE-46C3-96E1-68F92A14C9D5'\n",
    "\n",
    "temp_df = raw[raw['uuid'] == user_uuid]\n",
    "\n",
    "# Copy of original dataframe # \n",
    "eval_df = temp_df\n",
    "\n"
   ]
  },
  {
   "cell_type": "code",
   "execution_count": 27,
   "metadata": {},
   "outputs": [
    {
     "data": {
      "text/plain": [
       "Index(['uuid', 'latitude', 'longitude', 'instantaneous_speed', 'timestamp_UTC',\n",
       "       'time_difference', 'insta_speed_difference',\n",
       "       'instantaneous_acceleration', 'insta_acceleration_difference',\n",
       "       'instantaneous_jerk', 'LatLon', 'RushhourType', 'ClosedTransit',\n",
       "       'Distance', 'Direction', 'Average Velocity', 'Average Acceleration',\n",
       "       'Weekends', 'TimeOfDay', 'x_coordinate', 'y_coordinate',\n",
       "       'z_coordinate'],\n",
       "      dtype='object')"
      ]
     },
     "execution_count": 27,
     "metadata": {},
     "output_type": "execute_result"
    }
   ],
   "source": [
    "temp_df.columns"
   ]
  },
  {
   "cell_type": "code",
   "execution_count": 28,
   "metadata": {},
   "outputs": [],
   "source": [
    "prompt_datapath = 'D:\\Itinerum Data\\MTLTrajet2018\\MTLTrajet2018\\prompt_responses.csv'\n",
    "\n",
    "prompt = pd.read_csv(prompt_datapath) \n",
    "\n",
    "prompt.rename({'user_uuid':'uuid'},axis=1,inplace=True)"
   ]
  },
  {
   "cell_type": "code",
   "execution_count": 29,
   "metadata": {},
   "outputs": [],
   "source": [
    "cols_todrop = ['prompt_uuid', 'mode', 'mode_id', 'purpose', 'purpose_id','displayed_at_epoch', 'recorded_at_UTC','recorded_at_epoch', 'latitude', 'longitude']\n",
    "\n",
    "prompt.drop(cols_todrop,axis=1,inplace=True)"
   ]
  },
  {
   "cell_type": "code",
   "execution_count": 30,
   "metadata": {},
   "outputs": [],
   "source": [
    "def convert(s):\n",
    "    return datetime.strptime(s, '%Y-%m-%d %H:%M:%S')\n",
    "\n",
    "temp = prompt.displayed_at_UTC.apply(convert)"
   ]
  },
  {
   "cell_type": "code",
   "execution_count": 31,
   "metadata": {},
   "outputs": [],
   "source": [
    "lbound_timestamp = temp-timedelta(seconds=5)\n",
    "\n",
    "rbound_timestamp = temp+timedelta(seconds=5)\n",
    "\n",
    "prompt['lb_timestamp'] = lbound_timestamp\n",
    "prompt['rb_timestamp'] = rbound_timestamp\n",
    "prompt['timestamp_UTC'] = temp"
   ]
  },
  {
   "cell_type": "code",
   "execution_count": 32,
   "metadata": {},
   "outputs": [
    {
     "data": {
      "text/plain": [
       "uuid                        object\n",
       "displayed_at_UTC            object\n",
       "lb_timestamp        datetime64[ns]\n",
       "rb_timestamp        datetime64[ns]\n",
       "timestamp_UTC       datetime64[ns]\n",
       "dtype: object"
      ]
     },
     "execution_count": 32,
     "metadata": {},
     "output_type": "execute_result"
    }
   ],
   "source": [
    "#prompt.drop(['displayed_at_UTC'],axis=1,inplace=True)\n",
    "prompt.dtypes"
   ]
  },
  {
   "cell_type": "code",
   "execution_count": 33,
   "metadata": {},
   "outputs": [],
   "source": [
    "# Selecting data for 1 day from prompt dataset #\n",
    "start = temp_df.head(1).timestamp_UTC \n",
    "start_time = pd.to_datetime(start.values[0]).date()\n",
    "end = temp_df.tail(1).timestamp_UTC\n",
    "end_time = pd.to_datetime(end.values[0]).date()\n",
    "end_time = end_time +timedelta(days=1)"
   ]
  },
  {
   "cell_type": "code",
   "execution_count": 34,
   "metadata": {},
   "outputs": [
    {
     "name": "stderr",
     "output_type": "stream",
     "text": [
      "C:\\ProgramData\\Anaconda3\\lib\\site-packages\\ipykernel_launcher.py:1: FutureWarning: Comparing Series of datetimes with 'datetime.date'.  Currently, the\n",
      "'datetime.date' is coerced to a datetime. In the future pandas will\n",
      "not coerce, and a TypeError will be raised. To retain the current\n",
      "behavior, convert the 'datetime.date' to a datetime with\n",
      "'pd.Timestamp'.\n",
      "  \"\"\"Entry point for launching an IPython kernel.\n"
     ]
    }
   ],
   "source": [
    "prompt = prompt[prompt.timestamp_UTC <= end_time]"
   ]
  },
  {
   "cell_type": "code",
   "execution_count": 35,
   "metadata": {},
   "outputs": [],
   "source": [
    "times = list(zip(prompt.lb_timestamp,prompt.rb_timestamp))\n",
    "\n",
    "stops = []\n",
    "\n",
    "for i in range(len(times)):\n",
    "    val = temp_df.loc[temp_df.loc[:, 'timestamp_UTC'].between(times[i][0],times[i][1]), : ]\n",
    "    stops.append(val)\n",
    "\n",
    "clean_time = []\n",
    "\n",
    "for val in stops:\n",
    "    if val.empty:\n",
    "        continue\n",
    "    elif not val.empty:\n",
    "        clean_time.append(val)"
   ]
  },
  {
   "cell_type": "code",
   "execution_count": 36,
   "metadata": {},
   "outputs": [],
   "source": [
    "indexes = []\n",
    "for x in clean_time:\n",
    "    indexes.append(x.index)\n",
    "\n",
    "index_ = []\n",
    "for x in indexes:\n",
    "    index_.append((x.values))\n",
    "\n",
    "index_values = []\n",
    "for i in range(len(index_)):\n",
    "    val = index_[i][0]\n",
    "    index_values.append(val)"
   ]
  },
  {
   "cell_type": "code",
   "execution_count": 37,
   "metadata": {},
   "outputs": [],
   "source": [
    "flag = []\n",
    "\n",
    "for x in temp_df.index.values:\n",
    "    if x in index_values:\n",
    "        flag.append(1)\n",
    "    else:\n",
    "        flag.append(0)\n"
   ]
  },
  {
   "cell_type": "code",
   "execution_count": 38,
   "metadata": {},
   "outputs": [
    {
     "name": "stderr",
     "output_type": "stream",
     "text": [
      "C:\\ProgramData\\Anaconda3\\lib\\site-packages\\ipykernel_launcher.py:1: SettingWithCopyWarning: \n",
      "A value is trying to be set on a copy of a slice from a DataFrame.\n",
      "Try using .loc[row_indexer,col_indexer] = value instead\n",
      "\n",
      "See the caveats in the documentation: http://pandas.pydata.org/pandas-docs/stable/indexing.html#indexing-view-versus-copy\n",
      "  \"\"\"Entry point for launching an IPython kernel.\n"
     ]
    }
   ],
   "source": [
    "temp_df['Application_stop'] = flag"
   ]
  },
  {
   "cell_type": "markdown",
   "metadata": {},
   "source": [
    "### Part 2: Signal Loss Stops ###"
   ]
  },
  {
   "cell_type": "code",
   "execution_count": 39,
   "metadata": {},
   "outputs": [],
   "source": [
    "signal_loss = []\n",
    "\n",
    "threshold_loss = np.percentile(temp_df.time_difference,97.5)\n",
    "\n",
    "for val in temp_df.time_difference:\n",
    "    if val > threshold_loss:\n",
    "        signal_loss.append(1)\n",
    "    elif val <= threshold_loss:\n",
    "        signal_loss.append(0)\n",
    "\n"
   ]
  },
  {
   "cell_type": "code",
   "execution_count": 40,
   "metadata": {},
   "outputs": [
    {
     "data": {
      "text/plain": [
       "117.0"
      ]
     },
     "execution_count": 40,
     "metadata": {},
     "output_type": "execute_result"
    }
   ],
   "source": [
    "threshold_loss"
   ]
  },
  {
   "cell_type": "code",
   "execution_count": 41,
   "metadata": {},
   "outputs": [
    {
     "name": "stderr",
     "output_type": "stream",
     "text": [
      "C:\\ProgramData\\Anaconda3\\lib\\site-packages\\ipykernel_launcher.py:1: SettingWithCopyWarning: \n",
      "A value is trying to be set on a copy of a slice from a DataFrame.\n",
      "Try using .loc[row_indexer,col_indexer] = value instead\n",
      "\n",
      "See the caveats in the documentation: http://pandas.pydata.org/pandas-docs/stable/indexing.html#indexing-view-versus-copy\n",
      "  \"\"\"Entry point for launching an IPython kernel.\n"
     ]
    }
   ],
   "source": [
    "temp_df['signal_loss'] = signal_loss"
   ]
  },
  {
   "cell_type": "code",
   "execution_count": 42,
   "metadata": {},
   "outputs": [
    {
     "name": "stderr",
     "output_type": "stream",
     "text": [
      "C:\\ProgramData\\Anaconda3\\lib\\site-packages\\ipykernel_launcher.py:3: SettingWithCopyWarning: \n",
      "A value is trying to be set on a copy of a slice from a DataFrame.\n",
      "Try using .loc[row_indexer,col_indexer] = value instead\n",
      "\n",
      "See the caveats in the documentation: http://pandas.pydata.org/pandas-docs/stable/indexing.html#indexing-view-versus-copy\n",
      "  This is separate from the ipykernel package so we can avoid doing imports until\n"
     ]
    }
   ],
   "source": [
    "speed_threshold = 0.5      # Units: m/s\n",
    "\n",
    "temp_df['User_stopped'] = (temp_df['Average Velocity'] < speed_threshold).astype(int) # True is 1, False is 0. "
   ]
  },
  {
   "cell_type": "code",
   "execution_count": 43,
   "metadata": {},
   "outputs": [
    {
     "name": "stderr",
     "output_type": "stream",
     "text": [
      "C:\\ProgramData\\Anaconda3\\lib\\site-packages\\ipykernel_launcher.py:14: SettingWithCopyWarning: \n",
      "A value is trying to be set on a copy of a slice from a DataFrame.\n",
      "Try using .loc[row_indexer,col_indexer] = value instead\n",
      "\n",
      "See the caveats in the documentation: http://pandas.pydata.org/pandas-docs/stable/indexing.html#indexing-view-versus-copy\n",
      "  \n"
     ]
    }
   ],
   "source": [
    "signal_loss_stops = []\n",
    "\n",
    "for x in temp_df.index.values:\n",
    "    if x in temp_df[(temp_df.signal_loss == 1) & (temp_df.User_stopped == 1)].index.values:\n",
    "        signal_loss_stops.append(1)\n",
    "    else:\n",
    "        signal_loss_stops.append(0)\n",
    "\n",
    "for i in range(len(signal_loss_stops)):\n",
    "    if signal_loss_stops[i] == 1:\n",
    "        signal_loss_stops[(i-1)] = 1\n",
    "        signal_loss_stops[i] = 0\n",
    "        \n",
    "temp_df['signal_loss_stops'] = signal_loss_stops"
   ]
  },
  {
   "cell_type": "code",
   "execution_count": 44,
   "metadata": {},
   "outputs": [
    {
     "name": "stderr",
     "output_type": "stream",
     "text": [
      "C:\\ProgramData\\Anaconda3\\lib\\site-packages\\pandas\\core\\frame.py:3940: SettingWithCopyWarning: \n",
      "A value is trying to be set on a copy of a slice from a DataFrame\n",
      "\n",
      "See the caveats in the documentation: http://pandas.pydata.org/pandas-docs/stable/indexing.html#indexing-view-versus-copy\n",
      "  errors=errors)\n"
     ]
    }
   ],
   "source": [
    "# Can omit this cell - if would like to keep these columns # \n",
    "\n",
    "temp_df.drop(['signal_loss','User_stopped'],axis=1,inplace=True)"
   ]
  },
  {
   "cell_type": "markdown",
   "metadata": {},
   "source": [
    "### Part 3 - Stops at Home, Work, Study Proximity ###"
   ]
  },
  {
   "cell_type": "code",
   "execution_count": 45,
   "metadata": {},
   "outputs": [],
   "source": [
    "survey_path = \"D:\\Itinerum Data\\MTLTrajet2018\\MTLTrajet2018\\survey_responses.csv\"\n",
    "survey_df = pd.read_csv(survey_path)"
   ]
  },
  {
   "cell_type": "code",
   "execution_count": 46,
   "metadata": {},
   "outputs": [],
   "source": [
    "user_uuid = uuid_sortedfrequency[0]  # pass in the UUID of choice here. #Manual -> user_uuid = '003502B3-82CE-46C3-96E1-68F92A14C9D5'\n",
    "\n",
    "survey_df = survey_df[survey_df['uuid'] == user_uuid]\n",
    "\n",
    "survey_df.drop(['age_bracket_id', 'gender_id', 'member_type_id', 'document_id',\n",
    "       'num_of_people', 'num_of_cars', 'num_of_minors', 'email', 'model',\n",
    "       'participation_code', 'licence_id', 'referrer_id', 'travel_mode_work',\n",
    "       'travel_mode_alt_work', 'travel_mode_study', 'travel_mode_alt_study',\n",
    "       'created_at_UTC', 'created_at_epoch', 'use_notification_id', 'version',\n",
    "       'os', 'osversion','location_home', 'location_study', 'location_work'],axis=1,inplace=True)"
   ]
  },
  {
   "cell_type": "code",
   "execution_count": 47,
   "metadata": {},
   "outputs": [
    {
     "name": "stdout",
     "output_type": "stream",
     "text": [
      "UUID is in list\n"
     ]
    }
   ],
   "source": [
    "if len(survey_df) < 1:\n",
    "    print(\"UUID is not in the list\")\n",
    "else:\n",
    "    print(\"UUID is in list\")"
   ]
  },
  {
   "cell_type": "code",
   "execution_count": 48,
   "metadata": {},
   "outputs": [],
   "source": [
    "location_home = list(zip(survey_df.location_home_lat,survey_df.location_home_lon))\n",
    "location_study =  list(zip(survey_df.location_study_lat,survey_df.location_study_lon))\n",
    "location_work =  list(zip(survey_df.location_work_lat,survey_df.location_work_lon))"
   ]
  },
  {
   "cell_type": "code",
   "execution_count": 49,
   "metadata": {},
   "outputs": [
    {
     "name": "stderr",
     "output_type": "stream",
     "text": [
      "C:\\ProgramData\\Anaconda3\\lib\\site-packages\\ipykernel_launcher.py:3: FutureWarning: Method .as_matrix will be removed in a future version. Use .values instead.\n",
      "  This is separate from the ipykernel package so we can avoid doing imports until\n"
     ]
    }
   ],
   "source": [
    "vals_location_home = [np.nan]\n",
    "LL_col = pd.DataFrame()\n",
    "LL_col['LL'] = temp_df.LatLon.as_matrix()\n",
    "\n",
    "for i in range(0,temp_df.shape[0]):\n",
    "    \n",
    "    pair1 = LL_col['LL'][i]\n",
    "    \n",
    "    pair2 = location_home[0] # needed or else haversine will mess up \n",
    "    \n",
    "    val = (haversine(pair1,pair2,unit='m'))\n",
    "    vals_location_home.append(val)"
   ]
  },
  {
   "cell_type": "code",
   "execution_count": 50,
   "metadata": {},
   "outputs": [
    {
     "name": "stderr",
     "output_type": "stream",
     "text": [
      "C:\\ProgramData\\Anaconda3\\lib\\site-packages\\ipykernel_launcher.py:3: FutureWarning: Method .as_matrix will be removed in a future version. Use .values instead.\n",
      "  This is separate from the ipykernel package so we can avoid doing imports until\n"
     ]
    }
   ],
   "source": [
    "vals_location_study = [np.nan]\n",
    "LL_col = pd.DataFrame()\n",
    "LL_col['LL'] = temp_df.LatLon.as_matrix()\n",
    "\n",
    "for i in range(0,temp_df.shape[0]):\n",
    "    \n",
    "    pair1 = LL_col['LL'][i]\n",
    "    \n",
    "    pair2 = location_study[0] # needed or else haversine will mess up \n",
    "    \n",
    "    val = (haversine(pair1,pair2,unit='m'))\n",
    "    \n",
    "    vals_location_study.append(val)\n",
    "    "
   ]
  },
  {
   "cell_type": "code",
   "execution_count": 51,
   "metadata": {},
   "outputs": [
    {
     "name": "stderr",
     "output_type": "stream",
     "text": [
      "C:\\ProgramData\\Anaconda3\\lib\\site-packages\\ipykernel_launcher.py:3: FutureWarning: Method .as_matrix will be removed in a future version. Use .values instead.\n",
      "  This is separate from the ipykernel package so we can avoid doing imports until\n"
     ]
    }
   ],
   "source": [
    "vals_location_work = [np.nan]\n",
    "LL_col = pd.DataFrame()\n",
    "LL_col['LL'] = temp_df.LatLon.as_matrix()\n",
    "\n",
    "for i in range(0,temp_df.shape[0]):\n",
    "    \n",
    "    pair1 = LL_col['LL'][i]\n",
    "    \n",
    "    pair2 = location_work[0] # needed or else haversine will mess up \n",
    "    \n",
    "    val = (haversine(pair1,pair2,unit='m'))\n",
    "    vals_location_work.append(val)"
   ]
  },
  {
   "cell_type": "code",
   "execution_count": 52,
   "metadata": {},
   "outputs": [
    {
     "name": "stderr",
     "output_type": "stream",
     "text": [
      "C:\\ProgramData\\Anaconda3\\lib\\site-packages\\ipykernel_launcher.py:15: SettingWithCopyWarning: \n",
      "A value is trying to be set on a copy of a slice from a DataFrame.\n",
      "Try using .loc[row_indexer,col_indexer] = value instead\n",
      "\n",
      "See the caveats in the documentation: http://pandas.pydata.org/pandas-docs/stable/indexing.html#indexing-view-versus-copy\n",
      "  from ipykernel import kernelapp as app\n"
     ]
    }
   ],
   "source": [
    "location_home = np.delete(np.array(vals_location_home),0)\n",
    "loc_home_flag = []\n",
    "\n",
    "if (np.sum(np.isnan(location_home))) > 1:\n",
    "    None\n",
    "else:\n",
    "    for i in range(len(temp_df)):\n",
    "        if (temp_df['Average Velocity'].iloc[i] < 0.5) & (location_home[i] < 10):\n",
    "            loc_home_flag.append(1)\n",
    "        else:\n",
    "            loc_home_flag.append(0)\n",
    "        \n",
    "        #temp_df['Average Velocity'] < 0.5).astype(int)    (np.array(location_home) < 10).astype(int)\n",
    "        #temp_df['Home_location_distance'] = (np.array(location_home) < 10).astype(int) # Less than 10 meters away from home\n",
    "    temp_df['Home_location_distance'] = loc_home_flag  # Less than 10 meters away from home\n"
   ]
  },
  {
   "cell_type": "code",
   "execution_count": 53,
   "metadata": {},
   "outputs": [],
   "source": [
    "location_study = np.delete(np.array(vals_location_study),0)\n",
    "loc_study_flag = []\n",
    "\n",
    "if (np.sum(np.isnan(location_study))) > 1:\n",
    "    None\n",
    "else:\n",
    "    for i in range(len(temp_df)):\n",
    "        if (temp_df['Average Velocity'].iloc[i] < 0.5) & (location_study[i] < 10):\n",
    "            loc_study_flag.append(1)\n",
    "        else:\n",
    "            loc_study_flag.append(0)\n",
    "        \n",
    "    temp_df['Study_location_distance'] = loc_study_flag  # Less than 10 meters away from home\n"
   ]
  },
  {
   "cell_type": "code",
   "execution_count": 54,
   "metadata": {},
   "outputs": [
    {
     "name": "stderr",
     "output_type": "stream",
     "text": [
      "C:\\ProgramData\\Anaconda3\\lib\\site-packages\\ipykernel_launcher.py:13: SettingWithCopyWarning: \n",
      "A value is trying to be set on a copy of a slice from a DataFrame.\n",
      "Try using .loc[row_indexer,col_indexer] = value instead\n",
      "\n",
      "See the caveats in the documentation: http://pandas.pydata.org/pandas-docs/stable/indexing.html#indexing-view-versus-copy\n",
      "  del sys.path[0]\n"
     ]
    }
   ],
   "source": [
    "location_work = np.delete(np.array(vals_location_work),0)\n",
    "loc_work_flag = []\n",
    "\n",
    "if (np.sum(np.isnan(location_work))) > 1:\n",
    "    None\n",
    "else:\n",
    "    for i in range(len(temp_df)):\n",
    "        if (temp_df['Average Velocity'].iloc[i] < 0.5) & (location_work[i] < 10):\n",
    "            loc_work_flag.append(1)\n",
    "        else:\n",
    "            loc_work_flag.append(0)\n",
    "\n",
    "    temp_df['Work_location_distance'] = loc_work_flag  # Less than 10 meters away from home\n"
   ]
  },
  {
   "cell_type": "code",
   "execution_count": 55,
   "metadata": {},
   "outputs": [],
   "source": [
    "# NEW FEATURE BASED ON IF AT A RESIDENCE, WORKPLACE or STUDY location #\n",
    "# If within 10 m of one of these places and walking at a speed less than 1 m/s -> can assume you are at a stop or \n",
    "# end of a trip. "
   ]
  },
  {
   "cell_type": "markdown",
   "metadata": {},
   "source": [
    "### Part 4: HDBSCAN Clustering Stops ###"
   ]
  },
  {
   "cell_type": "code",
   "execution_count": 56,
   "metadata": {},
   "outputs": [
    {
     "name": "stderr",
     "output_type": "stream",
     "text": [
      "C:\\ProgramData\\Anaconda3\\lib\\site-packages\\hdbscan\\hdbscan_.py:1052: RuntimeWarning: invalid value encountered in double_scalars\n",
      "  self._outlier_scores = outlier_scores(self._condensed_tree)\n"
     ]
    }
   ],
   "source": [
    "import hdbscan\n",
    "\n",
    "values = temp_df[['latitude', 'longitude']].values\n",
    "rads = np.radians(values)\n",
    "\n",
    "earth_radius_km = 6371\n",
    "epsilon = (0.005 / earth_radius_km)   #calculate 5 meter epsilon threshold\n",
    "min_cluster_size = 5\n",
    "metric = 'haversine'\n",
    "cluster_selection_method = 'eom'\n",
    "\n",
    "clusterer = hdbscan.HDBSCAN(min_cluster_size=min_cluster_size, metric=metric, cluster_selection_epsilon=epsilon, cluster_selection_method = cluster_selection_method)\n",
    "\n",
    "c = clusterer.fit(rads)\n",
    "\n",
    "cluster_labels = c.labels_ # https://hdbscan.readthedocs.io/en/latest/basic_hdbscan.html VERIFY THIS DOCUMENTATION\n",
    "cluster_outliers = c.outlier_scores_ "
   ]
  },
  {
   "cell_type": "markdown",
   "metadata": {},
   "source": [
    "### Quick Visualization of Outlier's from HDBSCAN Clustering ###"
   ]
  },
  {
   "cell_type": "code",
   "execution_count": 57,
   "metadata": {},
   "outputs": [
    {
     "name": "stderr",
     "output_type": "stream",
     "text": [
      "C:\\ProgramData\\Anaconda3\\lib\\site-packages\\ipykernel_launcher.py:2: RuntimeWarning: invalid value encountered in greater\n",
      "  \n"
     ]
    },
    {
     "data": {
      "image/png": "[encoded data removed]",
      "text/plain": [
       "<Figure size 432x288 with 1 Axes>"
      ]
     },
     "metadata": {
      "needs_background": "light"
     },
     "output_type": "display_data"
    }
   ],
   "source": [
    "threshold = pd.Series(clusterer.outlier_scores_).quantile(0.99)\n",
    "outliers = np.where(clusterer.outlier_scores_ > threshold)[0]\n",
    "plt.scatter(*rads.T, s=50, linewidth=0, c='gray', alpha=0.25)\n",
    "plt.scatter(*rads[outliers].T, s=50, linewidth=0, c='red', alpha=0.5)\n",
    "plt.title(\"Quick Visual of 99 Percentile Outliers\")\n",
    "plt.show()"
   ]
  },
  {
   "cell_type": "markdown",
   "metadata": {},
   "source": [
    "### Identifying large clusters (clusters with 20 or more data points) ###"
   ]
  },
  {
   "cell_type": "code",
   "execution_count": 58,
   "metadata": {},
   "outputs": [],
   "source": [
    "large_clusters = pd.Series(cluster_labels).value_counts(sort=True)[pd.Series(cluster_labels).value_counts() > 20].index.tolist()"
   ]
  },
  {
   "cell_type": "code",
   "execution_count": 59,
   "metadata": {},
   "outputs": [
    {
     "name": "stderr",
     "output_type": "stream",
     "text": [
      "C:\\ProgramData\\Anaconda3\\lib\\site-packages\\ipykernel_launcher.py:1: SettingWithCopyWarning: \n",
      "A value is trying to be set on a copy of a slice from a DataFrame.\n",
      "Try using .loc[row_indexer,col_indexer] = value instead\n",
      "\n",
      "See the caveats in the documentation: http://pandas.pydata.org/pandas-docs/stable/indexing.html#indexing-view-versus-copy\n",
      "  \"\"\"Entry point for launching an IPython kernel.\n",
      "C:\\ProgramData\\Anaconda3\\lib\\site-packages\\ipykernel_launcher.py:2: SettingWithCopyWarning: \n",
      "A value is trying to be set on a copy of a slice from a DataFrame.\n",
      "Try using .loc[row_indexer,col_indexer] = value instead\n",
      "\n",
      "See the caveats in the documentation: http://pandas.pydata.org/pandas-docs/stable/indexing.html#indexing-view-versus-copy\n",
      "  \n"
     ]
    }
   ],
   "source": [
    "temp_df['cluster_labels'] = cluster_labels\n",
    "temp_df['cluster_outliers'] = cluster_outliers "
   ]
  },
  {
   "cell_type": "code",
   "execution_count": 60,
   "metadata": {},
   "outputs": [
    {
     "name": "stderr",
     "output_type": "stream",
     "text": [
      "C:\\ProgramData\\Anaconda3\\lib\\site-packages\\ipykernel_launcher.py:9: SettingWithCopyWarning: \n",
      "A value is trying to be set on a copy of a slice from a DataFrame.\n",
      "Try using .loc[row_indexer,col_indexer] = value instead\n",
      "\n",
      "See the caveats in the documentation: http://pandas.pydata.org/pandas-docs/stable/indexing.html#indexing-view-versus-copy\n",
      "  if __name__ == '__main__':\n"
     ]
    }
   ],
   "source": [
    "large_cluster = []\n",
    "\n",
    "for i in range(len(temp_df)):\n",
    "    if temp_df.cluster_labels.iloc[i] in large_clusters:\n",
    "        large_cluster.append(1)\n",
    "    else:\n",
    "        large_cluster.append(0)\n",
    "\n",
    "temp_df['large_cluster'] = large_cluster        "
   ]
  },
  {
   "cell_type": "markdown",
   "metadata": {},
   "source": [
    "### Directional Change ###"
   ]
  },
  {
   "cell_type": "code",
   "execution_count": 61,
   "metadata": {},
   "outputs": [],
   "source": [
    "temp1 = temp_df.Direction.diff()\n",
    "\n",
    "temp1.fillna(0,inplace=True)\n",
    "\n",
    "directional_change = []\n",
    "\n",
    "for val in temp1:\n",
    "    if val >=0:\n",
    "        directional_change.append(1)\n",
    "    elif val < 0:\n",
    "        directional_change.append(-1)\n"
   ]
  },
  {
   "cell_type": "code",
   "execution_count": 62,
   "metadata": {},
   "outputs": [
    {
     "name": "stderr",
     "output_type": "stream",
     "text": [
      "C:\\ProgramData\\Anaconda3\\lib\\site-packages\\ipykernel_launcher.py:1: SettingWithCopyWarning: \n",
      "A value is trying to be set on a copy of a slice from a DataFrame.\n",
      "Try using .loc[row_indexer,col_indexer] = value instead\n",
      "\n",
      "See the caveats in the documentation: http://pandas.pydata.org/pandas-docs/stable/indexing.html#indexing-view-versus-copy\n",
      "  \"\"\"Entry point for launching an IPython kernel.\n"
     ]
    }
   ],
   "source": [
    "temp_df['directional_change'] = directional_change"
   ]
  },
  {
   "cell_type": "markdown",
   "metadata": {},
   "source": [
    "### Abrupt Changes ### "
   ]
  },
  {
   "cell_type": "code",
   "execution_count": 63,
   "metadata": {},
   "outputs": [
    {
     "name": "stderr",
     "output_type": "stream",
     "text": [
      "C:\\ProgramData\\Anaconda3\\lib\\site-packages\\ipykernel_launcher.py:5: SettingWithCopyWarning: \n",
      "A value is trying to be set on a copy of a slice from a DataFrame.\n",
      "Try using .loc[row_indexer,col_indexer] = value instead\n",
      "\n",
      "See the caveats in the documentation: http://pandas.pydata.org/pandas-docs/stable/indexing.html#indexing-view-versus-copy\n",
      "  \"\"\"\n"
     ]
    },
    {
     "data": {
      "text/plain": [
       "16.505149041370473"
      ]
     },
     "execution_count": 63,
     "metadata": {},
     "output_type": "execute_result"
    }
   ],
   "source": [
    "abrupt_dir_changes = temp_df.Direction.diff() / temp_df.time_difference\n",
    "\n",
    "abrupt_dir_changes.fillna(0,inplace=True)\n",
    "\n",
    "temp_df['abrupt_directional_change'] = abrupt_dir_changes\n",
    "\n",
    "np.percentile(abrupt_dir_changes,2.5)\n",
    "np.percentile(abrupt_dir_changes,97.5)"
   ]
  },
  {
   "cell_type": "code",
   "execution_count": 64,
   "metadata": {},
   "outputs": [
    {
     "name": "stderr",
     "output_type": "stream",
     "text": [
      "C:\\ProgramData\\Anaconda3\\lib\\site-packages\\ipykernel_launcher.py:14: SettingWithCopyWarning: \n",
      "A value is trying to be set on a copy of a slice from a DataFrame.\n",
      "Try using .loc[row_indexer,col_indexer] = value instead\n",
      "\n",
      "See the caveats in the documentation: http://pandas.pydata.org/pandas-docs/stable/indexing.html#indexing-view-versus-copy\n",
      "  \n"
     ]
    }
   ],
   "source": [
    "abrupt_changes = []\n",
    "\n",
    "for x in temp_df['abrupt_directional_change']:\n",
    "    \n",
    "    if x < np.percentile(abrupt_dir_changes,2.5):\n",
    "        abrupt_changes.append(1)\n",
    "    \n",
    "    elif x > np.percentile(abrupt_dir_changes,97.5):\n",
    "        abrupt_changes.append(1)\n",
    "    \n",
    "    else:\n",
    "        abrupt_changes.append(0)\n",
    "\n",
    "temp_df['abrupt_change_in_direction'] = abrupt_changes"
   ]
  },
  {
   "cell_type": "code",
   "execution_count": 65,
   "metadata": {},
   "outputs": [
    {
     "name": "stderr",
     "output_type": "stream",
     "text": [
      "C:\\ProgramData\\Anaconda3\\lib\\site-packages\\ipykernel_launcher.py:12: SettingWithCopyWarning: \n",
      "A value is trying to be set on a copy of a slice from a DataFrame.\n",
      "Try using .loc[row_indexer,col_indexer] = value instead\n",
      "\n",
      "See the caveats in the documentation: http://pandas.pydata.org/pandas-docs/stable/indexing.html#indexing-view-versus-copy\n",
      "  if sys.path[0] == '':\n"
     ]
    }
   ],
   "source": [
    "flags = []\n",
    "\n",
    "for i in range(len(temp_df)):\n",
    "    \n",
    "    if ((temp_df['cluster_labels'].iloc[i] != -1) & (temp_df['large_cluster'].iloc[i] == 1) & (temp_df['abrupt_change_in_direction'].iloc[i] == 1)\n",
    "       & (temp_df['Average Velocity'].iloc[i] < 0.2) & (temp_df.time_difference.iloc[i] > 120)):\n",
    "        \n",
    "        flags.append(1)\n",
    "    else:\n",
    "        flags.append(0)\n",
    "\n",
    "temp_df['Cluster_trip_stops'] = flags"
   ]
  },
  {
   "cell_type": "code",
   "execution_count": 66,
   "metadata": {},
   "outputs": [
    {
     "name": "stderr",
     "output_type": "stream",
     "text": [
      "C:\\ProgramData\\Anaconda3\\lib\\site-packages\\pandas\\core\\frame.py:3940: SettingWithCopyWarning: \n",
      "A value is trying to be set on a copy of a slice from a DataFrame\n",
      "\n",
      "See the caveats in the documentation: http://pandas.pydata.org/pandas-docs/stable/indexing.html#indexing-view-versus-copy\n",
      "  errors=errors)\n"
     ]
    }
   ],
   "source": [
    "temp_df.drop(['cluster_labels','cluster_outliers','directional_change',\n",
    "              'abrupt_directional_change','abrupt_change_in_direction'],axis=1,inplace=True)"
   ]
  },
  {
   "cell_type": "code",
   "execution_count": 67,
   "metadata": {},
   "outputs": [
    {
     "name": "stderr",
     "output_type": "stream",
     "text": [
      "C:\\ProgramData\\Anaconda3\\lib\\site-packages\\pandas\\core\\frame.py:4034: SettingWithCopyWarning: \n",
      "A value is trying to be set on a copy of a slice from a DataFrame\n",
      "\n",
      "See the caveats in the documentation: http://pandas.pydata.org/pandas-docs/stable/indexing.html#indexing-view-versus-copy\n",
      "  downcast=downcast, **kwargs)\n"
     ]
    }
   ],
   "source": [
    "fill_nans = 0\n",
    "\n",
    "temp_df.fillna(fill_nans,inplace=True)"
   ]
  },
  {
   "cell_type": "markdown",
   "metadata": {},
   "source": [
    "### Section 6: Segmenting Time Series into Trips and Passing through Isolation Forest ###"
   ]
  },
  {
   "cell_type": "code",
   "execution_count": 68,
   "metadata": {},
   "outputs": [],
   "source": [
    "if 'Study_location_distance' in temp_df.columns:\n",
    "    stop_list = temp_df[(temp_df['Application_stop'] == 1)|((temp_df['signal_loss_stops'] == 1))\n",
    "                       |((temp_df['Home_location_distance'] == 1))|((temp_df['Study_location_distance'] == 1))\n",
    "                       |((temp_df['Work_location_distance'] == 1))|((temp_df['Cluster_trip_stops'] == 1))\n",
    "                       ].index.tolist()\n",
    "\n",
    "else:\n",
    "    stop_list = temp_df[(temp_df['Application_stop'] == 1)|((temp_df['signal_loss_stops'] == 1))\n",
    "                       |((temp_df['Home_location_distance'] == 1))|((temp_df['Work_location_distance'] == 1))\n",
    "                        |((temp_df['Cluster_trip_stops'] == 1))\n",
    "                       ].index.tolist()\n",
    "\n",
    "# 1. Application_stop \n",
    "# 2. signal_loss_stops\n",
    "# 3. Home_location_distance\n",
    "# 4. Study_location_distance\n",
    "# 5. Work_location_distance\n",
    "# 6. Cluster_trip_stops"
   ]
  },
  {
   "cell_type": "code",
   "execution_count": 69,
   "metadata": {},
   "outputs": [
    {
     "name": "stderr",
     "output_type": "stream",
     "text": [
      "C:\\ProgramData\\Anaconda3\\lib\\site-packages\\ipykernel_launcher.py:9: SettingWithCopyWarning: \n",
      "A value is trying to be set on a copy of a slice from a DataFrame.\n",
      "Try using .loc[row_indexer,col_indexer] = value instead\n",
      "\n",
      "See the caveats in the documentation: http://pandas.pydata.org/pandas-docs/stable/indexing.html#indexing-view-versus-copy\n",
      "  if __name__ == '__main__':\n"
     ]
    }
   ],
   "source": [
    "stop_agg = []\n",
    "\n",
    "for x in temp_df.index:\n",
    "    if x in stop_list:\n",
    "        stop_agg.append(1)\n",
    "    else:\n",
    "        stop_agg.append(0)\n",
    "\n",
    "temp_df['Trip_ends'] = stop_agg # stops for trips end at 1 values. "
   ]
  },
  {
   "cell_type": "code",
   "execution_count": 70,
   "metadata": {},
   "outputs": [
    {
     "data": {
      "text/plain": [
       "<matplotlib.axes._subplots.AxesSubplot at 0x1e58311cb70>"
      ]
     },
     "execution_count": 70,
     "metadata": {},
     "output_type": "execute_result"
    },
    {
     "data": {
      "image/png": "[encoded data removed]",
      "text/plain": [
       "<Figure size 1080x720 with 2 Axes>"
      ]
     },
     "metadata": {
      "needs_background": "light"
     },
     "output_type": "display_data"
    }
   ],
   "source": [
    "x = temp_df.loc[:,['Average Velocity', 'Average Acceleration','x_coordinate', 'y_coordinate', 'z_coordinate','Application_stop', 'signal_loss_stops', 'Home_location_distance',\n",
    "'Work_location_distance', 'large_cluster', 'Cluster_trip_stops','Trip_ends']]\n",
    "\n",
    "from sklearn.preprocessing import StandardScaler\n",
    "    \n",
    "scaler = StandardScaler()\n",
    "scaled_df = scaler.fit_transform(x)\n",
    "    \n",
    "y = pd.DataFrame(scaled_df, columns=['Average Velocity', 'Average Acceleration', 'x_coordinate', 'y_coordinate', 'z_coordinate','Application_stop', 'signal_loss_stops', 'Home_location_distance',\n",
    "'Work_location_distance', 'large_cluster', 'Cluster_trip_stops','Trip_ends'])\n",
    "\n",
    "\n",
    "\n",
    "plt.figure(figsize=(15,10))\n",
    "\n",
    "import seaborn as sns\n",
    "corr = y.corr()\n",
    "sns.heatmap(corr, xticklabels=y.columns.values, yticklabels=y.columns.values,annot=True)\n"
   ]
  },
  {
   "cell_type": "markdown",
   "metadata": {},
   "source": [
    "# Testing Phase 1 - Mixed Validation Set - Optimal Parameter Training #"
   ]
  },
  {
   "cell_type": "code",
   "execution_count": 71,
   "metadata": {},
   "outputs": [],
   "source": [
    "import warnings\n",
    "warnings.filterwarnings(\"ignore\", category=FutureWarning)\n",
    "warnings.filterwarnings(\"ignore\", category=UserWarning)\n",
    "\n",
    "dftemp1 = pd.read_csv(\"D:\\\\Itinerum Data\\\\validation_set.csv\", header=None)\n",
    "\n",
    "dftemp1.rename({0:'latitude',1:'longitude'},inplace=True,axis=1)\n",
    "\n",
    "testingset = raw.head(101)\n",
    "testingset = testingset.iloc[1:101,:]\n",
    "testing_try1 = (testingset.loc[:,['latitude','longitude']])\n",
    "\n",
    "lat_test = testing_try1.latitude.append(dftemp1.latitude, ignore_index=True)\n",
    "long_test = testing_try1.longitude.append(dftemp1.longitude, ignore_index=True)\n",
    "\n",
    "df = pd.DataFrame()\n",
    "\n",
    "df['latitude'] = lat_test\n",
    "df['longitude'] = long_test\n",
    "\n",
    "normal = []\n",
    "\n",
    "for i in range(len(testingset)):\n",
    "    normal.append(1)\n",
    "\n",
    "outlier = []\n",
    "\n",
    "for i in range(len(dftemp1.latitude)):\n",
    "    outlier.append(-1)\n",
    "\n",
    "labels = pd.Series(normal).append(pd.Series(outlier),ignore_index=True)    \n",
    "#coords = list(zip(testingset.latitude,testingset.longitude))\n",
    "\n",
    "df['labels'] = labels\n",
    "\n",
    "x_coordinate = []\n",
    "y_coordinate = []\n",
    "z_coordinate = []\n",
    "\n",
    "R = 6371000 # radius of earth in meters \n",
    "\n",
    "import math \n",
    "\n",
    "for i in range(len(df)):\n",
    "   \n",
    "    x = R * math.cos(df.latitude.iloc[i]) * math.cos(df.longitude.iloc[i])\n",
    "\n",
    "    y = R * math.cos(df.latitude.iloc[i]) * math.sin(df.longitude.iloc[i])\n",
    "\n",
    "    z = R * math.sin(df.latitude.iloc[i])\n",
    "\n",
    "       \n",
    "    x_coordinate.append(x)\n",
    "    y_coordinate.append(y)\n",
    "    z_coordinate.append(z)\n",
    "\n",
    "df['x_coordinate'] = x_coordinate\n",
    "df['y_coordinate'] = y_coordinate\n",
    "df['z_coordinate'] = z_coordinate"
   ]
  },
  {
   "cell_type": "markdown",
   "metadata": {},
   "source": [
    "# Model 1: Isolation Forest #"
   ]
  },
  {
   "cell_type": "code",
   "execution_count": 72,
   "metadata": {},
   "outputs": [
    {
     "data": {
      "text/plain": [
       "GridSearchCV(cv=5, error_score='raise-deprecating',\n",
       "             estimator=IsolationForest(behaviour='new', bootstrap=False,\n",
       "                                       contamination='legacy', max_features=1.0,\n",
       "                                       max_samples='auto', n_estimators=100,\n",
       "                                       n_jobs=None, random_state=0, verbose=0,\n",
       "                                       warm_start=False),\n",
       "             iid='warn', n_jobs=None,\n",
       "             param_grid={'bootstrap': [True, False],\n",
       "                         'contamination': [0.1, 0.15, 0.2],\n",
       "                         'max_samples': [100, 200, 300, 400],\n",
       "                         'n_estimators': [100, 200, 300, 400]},\n",
       "             pre_dispatch='2*n_jobs', refit=True, return_train_score=True,\n",
       "             scoring=make_scorer(f1_score, average=micro), verbose=0)"
      ]
     },
     "execution_count": 72,
     "metadata": {},
     "output_type": "execute_result"
    }
   ],
   "source": [
    "from sklearn.ensemble import IsolationForest\n",
    "from sklearn.metrics import make_scorer, f1_score\n",
    "from sklearn import model_selection\n",
    "from sklearn.datasets import make_classification\n",
    "\n",
    "testing = list(zip(df.x_coordinate,df.y_coordinate,df.z_coordinate))\n",
    "test_array = np.array(testing)\n",
    "\n",
    "X_train = test_array\n",
    "y_train = df.labels\n",
    "\n",
    "clf = IsolationForest(random_state=0, behaviour='new')\n",
    "\n",
    "param_grid = {'n_estimators': list(range(100, 500, 100)), \n",
    "              'max_samples': list(range(100, 500, 100)), \n",
    "              'contamination': [0.1, 0.15, 0.2], \n",
    "              'bootstrap': [True, False]} \n",
    "              \n",
    "\n",
    "f1sc = make_scorer(f1_score,average='micro')\n",
    "\n",
    "grid_dt_estimator = model_selection.GridSearchCV(clf, \n",
    "                                                 param_grid,\n",
    "                                                 scoring=f1sc, \n",
    "                                                 refit=True,\n",
    "                                                 cv=5, \n",
    "                                                 return_train_score=True)\n",
    "grid_dt_estimator.fit(X_train, y_train)"
   ]
  },
  {
   "cell_type": "markdown",
   "metadata": {},
   "source": [
    "### GridSearch Best Parameters ###"
   ]
  },
  {
   "cell_type": "code",
   "execution_count": 73,
   "metadata": {},
   "outputs": [
    {
     "data": {
      "text/plain": [
       "{'bootstrap': True,\n",
       " 'contamination': 0.1,\n",
       " 'max_samples': 100,\n",
       " 'n_estimators': 100}"
      ]
     },
     "execution_count": 73,
     "metadata": {},
     "output_type": "execute_result"
    }
   ],
   "source": [
    "grid_dt_estimator.best_params_"
   ]
  },
  {
   "cell_type": "markdown",
   "metadata": {},
   "source": [
    "### Classification Results ###"
   ]
  },
  {
   "cell_type": "code",
   "execution_count": 74,
   "metadata": {},
   "outputs": [
    {
     "name": "stdout",
     "output_type": "stream",
     "text": [
      "This is the Classification Report:\n",
      " \n",
      "              precision    recall  f1-score   support\n",
      "\n",
      "          -1       0.91      1.00      0.95        10\n",
      "           1       1.00      0.99      0.99       100\n",
      "\n",
      "    accuracy                           0.99       110\n",
      "   macro avg       0.95      0.99      0.97       110\n",
      "weighted avg       0.99      0.99      0.99       110\n",
      "\n",
      "This is the AUC Score:\n",
      " \n",
      "0.9990909090909091\n",
      "This is the pAUC Score:\n",
      " \n",
      "0.995\n"
     ]
    },
    {
     "name": "stderr",
     "output_type": "stream",
     "text": [
      "C:\\ProgramData\\Anaconda3\\lib\\site-packages\\sklearn\\ensemble\\iforest.py:415: DeprecationWarning: threshold_ attribute is deprecated in 0.20 and will be removed in 0.22.\n",
      "  \" be removed in 0.22.\", DeprecationWarning)\n"
     ]
    }
   ],
   "source": [
    "from sklearn.ensemble import IsolationForest\n",
    "from sklearn.metrics import classification_report\n",
    "from sklearn.metrics import average_precision_score\n",
    "from sklearn import metrics\n",
    "from sklearn.metrics import make_scorer, f1_score\n",
    "from sklearn import model_selection\n",
    "\n",
    "# Grid Search Parameters #\n",
    "\n",
    "n_estimators = 100\n",
    "max_samples = 100\n",
    "contamination = 0.1\n",
    "bootstrap = True\n",
    "features_topredict = ['x_coordinate','y_coordinate','z_coordinate']\n",
    "max_features = len(features_topredict)\n",
    "\n",
    "clf = IsolationForest(bootstrap=bootstrap, random_state=0, n_estimators=n_estimators, max_samples=max_samples, contamination=contamination, max_features= max_features).fit(df[features_topredict])\n",
    "\n",
    "testing = list(zip(df.x_coordinate,df.y_coordinate,df.z_coordinate))\n",
    "test_array = np.array(testing)\n",
    "\n",
    "prediction = clf.predict(test_array)\n",
    "\n",
    "# Predictions and True Values #\n",
    "y_pred = prediction\n",
    "y_true = df.labels\n",
    "\n",
    "# Model Performance Metrics #\n",
    "print(\"This is the Classification Report:\")\n",
    "print(\" \")\n",
    "print(classification_report(y_true, y_pred))\n",
    "print(\"This is the AUC Score:\")\n",
    "print(\" \")\n",
    "print(average_precision_score(y_true, y_pred))\n",
    "print(\"This is the pAUC Score:\")\n",
    "print(\" \")\n",
    "fpr, tpr, thresholds = metrics.roc_curve(y_true, y_pred)\n",
    "pAUC = np.trapz(tpr, fpr)\n",
    "print(pAUC)"
   ]
  },
  {
   "cell_type": "markdown",
   "metadata": {},
   "source": [
    "# Model 2 - Cluster-based Local Outlier Factor # "
   ]
  },
  {
   "cell_type": "code",
   "execution_count": 75,
   "metadata": {},
   "outputs": [
    {
     "data": {
      "text/plain": [
       "GridSearchCV(cv=5, error_score='raise-deprecating',\n",
       "             estimator=LocalOutlierFactor(algorithm='auto',\n",
       "                                          contamination='legacy', leaf_size=30,\n",
       "                                          metric='minkowski',\n",
       "                                          metric_params=None, n_jobs=None,\n",
       "                                          n_neighbors=20, novelty=False, p=2),\n",
       "             iid='warn', n_jobs=None,\n",
       "             param_grid={'algorithm': ['auto', 'ball_tree', 'kd_tree', 'brute'],\n",
       "                         'contamination': [0.1, 0.15, 0.2],\n",
       "                         'metric': ['minkowski', 'euclidean', 'l1', 'l2',\n",
       "                                    'manhattan'],\n",
       "                         'n_neighbors': [5, 10, 15], 'novelty': [True]},\n",
       "             pre_dispatch='2*n_jobs', refit=True, return_train_score=True,\n",
       "             scoring=make_scorer(f1_score, average=micro), verbose=0)"
      ]
     },
     "execution_count": 75,
     "metadata": {},
     "output_type": "execute_result"
    }
   ],
   "source": [
    "from sklearn.neighbors import LocalOutlierFactor\n",
    "from sklearn.metrics import make_scorer, f1_score\n",
    "from sklearn import model_selection\n",
    "\n",
    "testing = list(zip(df.x_coordinate,df.y_coordinate,df.z_coordinate))\n",
    "test_array = np.array(testing)\n",
    "\n",
    "X_train = test_array\n",
    "y_train = df.labels\n",
    "\n",
    "\n",
    "lof = LocalOutlierFactor()\n",
    "\n",
    "param_grid = {'n_neighbors': list(range(5,20,5)), \n",
    "              'algorithm': ['auto', 'ball_tree', 'kd_tree', 'brute'], \n",
    "              'contamination': [0.1, 0.15, 0.2], \n",
    "              'metric': ['minkowski', 'euclidean', 'l1', 'l2', 'manhattan'],\n",
    "             'novelty':[True]} \n",
    "              \n",
    "\n",
    "f1sc = make_scorer(f1_score,average='micro')\n",
    "\n",
    "grid_dt_estimator = model_selection.GridSearchCV(lof, \n",
    "                                                 param_grid,\n",
    "                                                 scoring=f1sc, \n",
    "                                                 refit=True,\n",
    "                                                 cv=5, \n",
    "                                                 return_train_score=True)\n",
    "grid_dt_estimator.fit(X_train, y_train)\n",
    "\n",
    "\n",
    "\n",
    "\n",
    "\n"
   ]
  },
  {
   "cell_type": "markdown",
   "metadata": {},
   "source": [
    "### GridSearch Best Parameters ###"
   ]
  },
  {
   "cell_type": "code",
   "execution_count": 76,
   "metadata": {},
   "outputs": [
    {
     "data": {
      "text/plain": [
       "{'algorithm': 'auto',\n",
       " 'contamination': 0.1,\n",
       " 'metric': 'minkowski',\n",
       " 'n_neighbors': 10,\n",
       " 'novelty': True}"
      ]
     },
     "execution_count": 76,
     "metadata": {},
     "output_type": "execute_result"
    }
   ],
   "source": [
    "grid_dt_estimator.best_params_"
   ]
  },
  {
   "cell_type": "code",
   "execution_count": 77,
   "metadata": {},
   "outputs": [
    {
     "name": "stdout",
     "output_type": "stream",
     "text": [
      "This is the Classification Report:\n",
      " \n",
      "              precision    recall  f1-score   support\n",
      "\n",
      "          -1       0.88      0.70      0.78        10\n",
      "           1       0.97      0.99      0.98       100\n",
      "\n",
      "    accuracy                           0.96       110\n",
      "   macro avg       0.92      0.84      0.88       110\n",
      "weighted avg       0.96      0.96      0.96       110\n",
      "\n",
      "This is the AUC Score:\n",
      " \n",
      "0.9699732620320856\n",
      "This is the pAUC Score:\n",
      " \n",
      "0.845\n"
     ]
    }
   ],
   "source": [
    "from sklearn.metrics import make_scorer, f1_score\n",
    "from sklearn import model_selection\n",
    "from sklearn.metrics import classification_report\n",
    "from sklearn.metrics import average_precision_score\n",
    "from sklearn import metrics\n",
    "\n",
    "# Grid Search Parameters #\n",
    "\n",
    "n_neighbors = 5\n",
    "metric = 'minkowski'\n",
    "contamination = 0.1\n",
    "novelty = True\n",
    "algorithm = 'auto'\n",
    "\n",
    "features_topredict = ['x_coordinate','y_coordinate','z_coordinate']\n",
    "max_features = len(features_topredict)\n",
    "\n",
    "lof = LocalOutlierFactor(n_neighbors = n_neighbors, metric=metric, novelty=novelty, algorithm=algorithm, contamination=contamination).fit(df[features_topredict])\n",
    "\n",
    "testing = list(zip(df.x_coordinate,df.y_coordinate,df.z_coordinate))\n",
    "test_array = np.array(testing)\n",
    "\n",
    "prediction = lof.predict(test_array)\n",
    "\n",
    "# Predictions and True Values #\n",
    "y_pred = prediction\n",
    "y_true = df.labels\n",
    "\n",
    "# Model Performance Metrics #\n",
    "\n",
    "print(\"This is the Classification Report:\")\n",
    "print(\" \")\n",
    "print(classification_report(y_true, y_pred))\n",
    "print(\"This is the AUC Score:\")\n",
    "print(\" \")\n",
    "print(average_precision_score(y_true, y_pred))\n",
    "print(\"This is the pAUC Score:\")\n",
    "print(\" \")\n",
    "fpr, tpr, thresholds = metrics.roc_curve(y_true, y_pred)\n",
    "pAUC = np.trapz(tpr, fpr)\n",
    "print(pAUC)"
   ]
  },
  {
   "cell_type": "markdown",
   "metadata": {},
   "source": [
    "# Model 3 - One Class Support Vector Machines # "
   ]
  },
  {
   "cell_type": "code",
   "execution_count": 78,
   "metadata": {},
   "outputs": [
    {
     "data": {
      "text/plain": [
       "GridSearchCV(cv=5, error_score='raise-deprecating',\n",
       "             estimator=OneClassSVM(cache_size=200, coef0=0.0, degree=3,\n",
       "                                   gamma='auto_deprecated', kernel='rbf',\n",
       "                                   max_iter=-1, nu=0.5, random_state=None,\n",
       "                                   shrinking=True, tol=0.001, verbose=False),\n",
       "             iid='warn', n_jobs=None,\n",
       "             param_grid={'degree': [2, 3, 4, 5], 'gamma': ['scale', 'auto'],\n",
       "                         'kernel': ['linear', 'poly', 'rbf', 'sigmoid'],\n",
       "                         'nu': [0.25, 0.5, 0.75, 1],\n",
       "                         'shrinking': [True, False]},\n",
       "             pre_dispatch='2*n_jobs', refit=True, return_train_score=True,\n",
       "             scoring=make_scorer(f1_score, average=micro), verbose=0)"
      ]
     },
     "execution_count": 78,
     "metadata": {},
     "output_type": "execute_result"
    }
   ],
   "source": [
    "from sklearn.metrics import make_scorer, f1_score\n",
    "from sklearn import model_selection\n",
    "from sklearn.svm import OneClassSVM\n",
    "\n",
    "testing = list(zip(df.x_coordinate,df.y_coordinate,df.z_coordinate))\n",
    "test_array = np.array(testing)\n",
    "\n",
    "X_train = test_array\n",
    "y_train = df.labels\n",
    "\n",
    "\n",
    "ocsvm = OneClassSVM()\n",
    "\n",
    "\n",
    "param_grid = {'kernel': ['linear', 'poly', 'rbf', 'sigmoid'], \n",
    "              'degree': [2,3,4,5], \n",
    "              'gamma': ['scale','auto'], \n",
    "              'nu': [0.25, 0.5, 0.75, 1],\n",
    "             'shrinking':[True,False]} \n",
    "              \n",
    "\n",
    "f1sc = make_scorer(f1_score,average='micro')\n",
    "\n",
    "grid_dt_estimator = model_selection.GridSearchCV(ocsvm, \n",
    "                                                 param_grid,\n",
    "                                                 scoring=f1sc, \n",
    "                                                 refit=True,\n",
    "                                                 cv=5, \n",
    "                                                 return_train_score=True)\n",
    "grid_dt_estimator.fit(X_train, y_train)"
   ]
  },
  {
   "cell_type": "markdown",
   "metadata": {},
   "source": [
    "### GridSearch Best Parameters ###"
   ]
  },
  {
   "cell_type": "code",
   "execution_count": 79,
   "metadata": {},
   "outputs": [
    {
     "data": {
      "text/plain": [
       "{'degree': 2,\n",
       " 'gamma': 'scale',\n",
       " 'kernel': 'linear',\n",
       " 'nu': 0.25,\n",
       " 'shrinking': True}"
      ]
     },
     "execution_count": 79,
     "metadata": {},
     "output_type": "execute_result"
    }
   ],
   "source": [
    "grid_dt_estimator.best_params_"
   ]
  },
  {
   "cell_type": "markdown",
   "metadata": {},
   "source": [
    "### Classification Results ###"
   ]
  },
  {
   "cell_type": "code",
   "execution_count": 80,
   "metadata": {},
   "outputs": [
    {
     "name": "stdout",
     "output_type": "stream",
     "text": [
      "This is the Classification Report:\n",
      " \n",
      "              precision    recall  f1-score   support\n",
      "\n",
      "          -1       0.36      1.00      0.53        10\n",
      "           1       1.00      0.82      0.90       100\n",
      "\n",
      "    accuracy                           0.84       110\n",
      "   macro avg       0.68      0.91      0.71       110\n",
      "weighted avg       0.94      0.84      0.87       110\n",
      "\n",
      "This is the AUC Score:\n",
      " \n",
      "0.9836363636363636\n",
      "This is the pAUC Score:\n",
      " \n",
      "0.9099999999999999\n"
     ]
    }
   ],
   "source": [
    "from sklearn.metrics import classification_report\n",
    "from sklearn.metrics import average_precision_score\n",
    "from sklearn import metrics\n",
    "\n",
    "degree = 2\n",
    "gamma = 'scale'\n",
    "kernel = 'linear'\n",
    "nu = 0.25\n",
    "shrinking = True\n",
    "    \n",
    "features_topredict = ['x_coordinate','y_coordinate','z_coordinate']\n",
    "max_features = len(features_topredict)\n",
    "\n",
    "ocsvm = OneClassSVM(degree=degree,gamma=gamma,kernel=kernel, nu=nu, shrinking=shrinking).fit(df[features_topredict])\n",
    "\n",
    "testing = list(zip(df.x_coordinate,df.y_coordinate,df.z_coordinate))\n",
    "test_array = np.array(testing)\n",
    "\n",
    "prediction = ocsvm.predict(test_array)\n",
    "\n",
    "prediction\n",
    "# predictions.append(prediction)\n",
    "\n",
    "from sklearn.ensemble import IsolationForest\n",
    "from sklearn.metrics import make_scorer, f1_score\n",
    "from sklearn import model_selection\n",
    "from sklearn.datasets import make_classification\n",
    "\n",
    "y_pred = prediction\n",
    "y_true = df.labels\n",
    "\n",
    "print(\"This is the Classification Report:\")\n",
    "print(\" \")\n",
    "print(classification_report(y_true, y_pred))\n",
    "print(\"This is the AUC Score:\")\n",
    "print(\" \")\n",
    "print(average_precision_score(y_true, y_pred))\n",
    "print(\"This is the pAUC Score:\")\n",
    "print(\" \")\n",
    "fpr, tpr, thresholds = metrics.roc_curve(y_true, y_pred)\n",
    "pAUC = np.trapz(tpr, fpr)\n",
    "print(pAUC)"
   ]
  },
  {
   "cell_type": "markdown",
   "metadata": {},
   "source": [
    "### Part 7: Feeding in Trip Segments into Isolation Forest ###"
   ]
  },
  {
   "cell_type": "code",
   "execution_count": 95,
   "metadata": {},
   "outputs": [],
   "source": [
    "import warnings\n",
    "warnings.filterwarnings(\"ignore\", category=UserWarning)\n",
    "warnings.filterwarnings(\"ignore\", category=DeprecationWarning)\n",
    "\n",
    "from sklearn.ensemble import IsolationForest\n",
    "\n",
    "outliers = [] # Contain the outlier data indexes can be analyzed later to clean from dataset # \n",
    "predictions = [] # Contains all the prediction scores from the Isolation Forest #\n",
    "\n",
    "trip_length = 5\n",
    "\n",
    "import pprint\n",
    "stop = len(stop_list)\n",
    "\n",
    "for i in range(0,25):\n",
    "    try:\n",
    "        if (i == 0):\n",
    "            isolation_df = temp_df.loc[:stop_list[i]]\n",
    "            \n",
    "            if len(isolation_df) < trip_length:                             # Ensures only analyzing trips of size greater than 5\n",
    "                continue\n",
    "        \n",
    "        else: \n",
    "            isolation_df = temp_df.loc[(stop_list[i-1]+1):stop_list[i]]\n",
    "            \n",
    "            if len(isolation_df) < trip_length:                             \n",
    "                continue\n",
    "    \n",
    "    except IndexError as e:                                                 # Ensures only analyzing trips of size greater than 5\n",
    "        pass\n",
    "    \n",
    "    numerics = ['int16', 'int32', 'int64', 'float16', 'float32', 'float64']\n",
    "    isolation_numeric = isolation_df.select_dtypes(include=numerics)\n",
    "    \n",
    "     # Standard Scaler #\n",
    "    \n",
    "    from sklearn.preprocessing import StandardScaler\n",
    "    \n",
    "    scaler = StandardScaler()\n",
    "    scaled_df = scaler.fit_transform(isolation_numeric)\n",
    "    \n",
    "    isolation_numeric = pd.DataFrame(scaled_df, columns=['latitude', 'longitude', 'instantaneous_speed', 'time_difference',\n",
    "       'insta_speed_difference', 'instantaneous_acceleration',\n",
    "       'insta_acceleration_difference', 'instantaneous_jerk', 'ClosedTransit',\n",
    "       'Distance', 'Direction', 'Average Velocity', 'Average Acceleration',\n",
    "       'Weekends', 'x_coordinate', 'y_coordinate', 'z_coordinate',\n",
    "       'Application_stop', 'signal_loss_stops', 'Home_location_distance',\n",
    "       'Work_location_distance', 'large_cluster', 'Cluster_trip_stops',\n",
    "       'Trip_ends'])\n",
    "    \n",
    "            \n",
    "     # Isolation Forest Parameters - derived from GridSearch #\n",
    "    n_estimators = 100\n",
    "    max_samples = 100\n",
    "    contamination = 0.1\n",
    "    bootstrap = True\n",
    "    \n",
    "    features_topredict = ['x_coordinate','y_coordinate','z_coordinate','Average Velocity','Average Acceleration']\n",
    "    max_features = len(features_topredict)\n",
    "\n",
    "    \n",
    "    \n",
    "    clf = IsolationForest(bootstrap = True, random_state=0, n_estimators=n_estimators, max_samples=max_samples, contamination=contamination, max_features= max_features).fit(isolation_numeric[features_topredict])\n",
    "    \n",
    "     # Specify feature columns names below: \n",
    "    \n",
    "    testing = list(zip(isolation_numeric.x_coordinate,isolation_numeric.y_coordinate,isolation_numeric.z_coordinate,\n",
    "                       isolation_numeric['Average Velocity'],isolation_numeric['Average Acceleration']))\n",
    "    \n",
    "    \n",
    "    test_array = np.array(testing)\n",
    "    \n",
    "    \n",
    "    prediction = clf.predict(test_array)\n",
    "    \n",
    "    predictions.append(prediction)\n",
    "    \n",
    "    isolation_numeric['anomaly']= prediction\n",
    "    \n",
    "    outlier = isolation_numeric.loc[isolation_numeric['anomaly']==-1]\n",
    "       \n",
    "    outliers.append(outlier.index)\n",
    "    \n",
    "   "
   ]
  },
  {
   "cell_type": "markdown",
   "metadata": {},
   "source": [
    "### Viewing Scaled version of Last Trip ###"
   ]
  },
  {
   "cell_type": "code",
   "execution_count": 96,
   "metadata": {},
   "outputs": [
    {
     "data": {
      "text/html": [
       "<div>\n",
       "<style scoped>\n",
       "    .dataframe tbody tr th:only-of-type {\n",
       "        vertical-align: middle;\n",
       "    }\n",
       "\n",
       "    .dataframe tbody tr th {\n",
       "        vertical-align: top;\n",
       "    }\n",
       "\n",
       "    .dataframe thead th {\n",
       "        text-align: right;\n",
       "    }\n",
       "</style>\n",
       "<table border=\"1\" class=\"dataframe\">\n",
       "  <thead>\n",
       "    <tr style=\"text-align: right;\">\n",
       "      <th></th>\n",
       "      <th>latitude</th>\n",
       "      <th>longitude</th>\n",
       "      <th>instantaneous_speed</th>\n",
       "      <th>time_difference</th>\n",
       "      <th>insta_speed_difference</th>\n",
       "      <th>instantaneous_acceleration</th>\n",
       "      <th>insta_acceleration_difference</th>\n",
       "      <th>instantaneous_jerk</th>\n",
       "      <th>ClosedTransit</th>\n",
       "      <th>Distance</th>\n",
       "      <th>...</th>\n",
       "      <th>y_coordinate</th>\n",
       "      <th>z_coordinate</th>\n",
       "      <th>Application_stop</th>\n",
       "      <th>signal_loss_stops</th>\n",
       "      <th>Home_location_distance</th>\n",
       "      <th>Work_location_distance</th>\n",
       "      <th>large_cluster</th>\n",
       "      <th>Cluster_trip_stops</th>\n",
       "      <th>Trip_ends</th>\n",
       "      <th>anomaly</th>\n",
       "    </tr>\n",
       "  </thead>\n",
       "  <tbody>\n",
       "    <tr>\n",
       "      <th>0</th>\n",
       "      <td>-1.829989</td>\n",
       "      <td>-1.246640</td>\n",
       "      <td>-1.573308</td>\n",
       "      <td>0.400653</td>\n",
       "      <td>-0.843922</td>\n",
       "      <td>-0.732703</td>\n",
       "      <td>-0.364145</td>\n",
       "      <td>-0.078532</td>\n",
       "      <td>0.0</td>\n",
       "      <td>-0.455222</td>\n",
       "      <td>...</td>\n",
       "      <td>-0.377020</td>\n",
       "      <td>-1.831105</td>\n",
       "      <td>0.0</td>\n",
       "      <td>-0.171499</td>\n",
       "      <td>0.0</td>\n",
       "      <td>0.0</td>\n",
       "      <td>0.544331</td>\n",
       "      <td>0.0</td>\n",
       "      <td>-0.171499</td>\n",
       "      <td>1</td>\n",
       "    </tr>\n",
       "    <tr>\n",
       "      <th>1</th>\n",
       "      <td>-1.636740</td>\n",
       "      <td>-1.208989</td>\n",
       "      <td>-0.752431</td>\n",
       "      <td>-0.106197</td>\n",
       "      <td>1.089031</td>\n",
       "      <td>0.936556</td>\n",
       "      <td>1.085137</td>\n",
       "      <td>0.598942</td>\n",
       "      <td>0.0</td>\n",
       "      <td>-0.237261</td>\n",
       "      <td>...</td>\n",
       "      <td>-0.238938</td>\n",
       "      <td>-1.637369</td>\n",
       "      <td>0.0</td>\n",
       "      <td>-0.171499</td>\n",
       "      <td>0.0</td>\n",
       "      <td>0.0</td>\n",
       "      <td>0.544331</td>\n",
       "      <td>0.0</td>\n",
       "      <td>-0.171499</td>\n",
       "      <td>1</td>\n",
       "    </tr>\n",
       "    <tr>\n",
       "      <th>2</th>\n",
       "      <td>-1.749116</td>\n",
       "      <td>-1.291406</td>\n",
       "      <td>-0.568152</td>\n",
       "      <td>0.231703</td>\n",
       "      <td>0.263725</td>\n",
       "      <td>0.077247</td>\n",
       "      <td>-0.560418</td>\n",
       "      <td>-0.170556</td>\n",
       "      <td>0.0</td>\n",
       "      <td>-0.416943</td>\n",
       "      <td>...</td>\n",
       "      <td>-0.255607</td>\n",
       "      <td>-1.750021</td>\n",
       "      <td>0.0</td>\n",
       "      <td>-0.171499</td>\n",
       "      <td>0.0</td>\n",
       "      <td>0.0</td>\n",
       "      <td>0.544331</td>\n",
       "      <td>0.0</td>\n",
       "      <td>-0.171499</td>\n",
       "      <td>1</td>\n",
       "    </tr>\n",
       "    <tr>\n",
       "      <th>3</th>\n",
       "      <td>-1.890075</td>\n",
       "      <td>-1.258350</td>\n",
       "      <td>0.369993</td>\n",
       "      <td>0.569603</td>\n",
       "      <td>1.241061</td>\n",
       "      <td>0.687172</td>\n",
       "      <td>0.395737</td>\n",
       "      <td>0.186671</td>\n",
       "      <td>0.0</td>\n",
       "      <td>-0.526056</td>\n",
       "      <td>...</td>\n",
       "      <td>-0.419943</td>\n",
       "      <td>-1.891356</td>\n",
       "      <td>0.0</td>\n",
       "      <td>-0.171499</td>\n",
       "      <td>0.0</td>\n",
       "      <td>0.0</td>\n",
       "      <td>0.544331</td>\n",
       "      <td>0.0</td>\n",
       "      <td>-0.171499</td>\n",
       "      <td>1</td>\n",
       "    </tr>\n",
       "    <tr>\n",
       "      <th>4</th>\n",
       "      <td>-1.720210</td>\n",
       "      <td>-1.231520</td>\n",
       "      <td>0.101952</td>\n",
       "      <td>0.231703</td>\n",
       "      <td>-0.322676</td>\n",
       "      <td>-0.384471</td>\n",
       "      <td>-0.698602</td>\n",
       "      <td>-0.226020</td>\n",
       "      <td>0.0</td>\n",
       "      <td>-0.387183</td>\n",
       "      <td>...</td>\n",
       "      <td>-0.291993</td>\n",
       "      <td>-1.721042</td>\n",
       "      <td>0.0</td>\n",
       "      <td>-0.171499</td>\n",
       "      <td>0.0</td>\n",
       "      <td>0.0</td>\n",
       "      <td>0.544331</td>\n",
       "      <td>0.0</td>\n",
       "      <td>-0.171499</td>\n",
       "      <td>1</td>\n",
       "    </tr>\n",
       "    <tr>\n",
       "      <th>5</th>\n",
       "      <td>-1.253164</td>\n",
       "      <td>-1.241452</td>\n",
       "      <td>-1.154493</td>\n",
       "      <td>0.738553</td>\n",
       "      <td>-1.604072</td>\n",
       "      <td>-1.097437</td>\n",
       "      <td>-0.465181</td>\n",
       "      <td>-0.089352</td>\n",
       "      <td>0.0</td>\n",
       "      <td>1.240583</td>\n",
       "      <td>...</td>\n",
       "      <td>0.147825</td>\n",
       "      <td>-1.253020</td>\n",
       "      <td>0.0</td>\n",
       "      <td>-0.171499</td>\n",
       "      <td>0.0</td>\n",
       "      <td>0.0</td>\n",
       "      <td>0.544331</td>\n",
       "      <td>0.0</td>\n",
       "      <td>-0.171499</td>\n",
       "      <td>1</td>\n",
       "    </tr>\n",
       "    <tr>\n",
       "      <th>6</th>\n",
       "      <td>-1.007949</td>\n",
       "      <td>-1.278065</td>\n",
       "      <td>-0.316863</td>\n",
       "      <td>-0.781998</td>\n",
       "      <td>1.110750</td>\n",
       "      <td>2.026725</td>\n",
       "      <td>2.031967</td>\n",
       "      <td>2.094071</td>\n",
       "      <td>0.0</td>\n",
       "      <td>0.040206</td>\n",
       "      <td>...</td>\n",
       "      <td>0.411711</td>\n",
       "      <td>-1.007445</td>\n",
       "      <td>0.0</td>\n",
       "      <td>-0.171499</td>\n",
       "      <td>0.0</td>\n",
       "      <td>0.0</td>\n",
       "      <td>0.544331</td>\n",
       "      <td>0.0</td>\n",
       "      <td>-0.171499</td>\n",
       "      <td>-1</td>\n",
       "    </tr>\n",
       "    <tr>\n",
       "      <th>7</th>\n",
       "      <td>-0.782221</td>\n",
       "      <td>-1.216697</td>\n",
       "      <td>-0.316863</td>\n",
       "      <td>0.062753</td>\n",
       "      <td>0.024821</td>\n",
       "      <td>-0.110860</td>\n",
       "      <td>-1.392301</td>\n",
       "      <td>-0.566496</td>\n",
       "      <td>0.0</td>\n",
       "      <td>0.001718</td>\n",
       "      <td>...</td>\n",
       "      <td>0.554815</td>\n",
       "      <td>-0.781479</td>\n",
       "      <td>0.0</td>\n",
       "      <td>-0.171499</td>\n",
       "      <td>0.0</td>\n",
       "      <td>0.0</td>\n",
       "      <td>0.544331</td>\n",
       "      <td>0.0</td>\n",
       "      <td>-0.171499</td>\n",
       "      <td>1</td>\n",
       "    </tr>\n",
       "    <tr>\n",
       "      <th>8</th>\n",
       "      <td>-0.651981</td>\n",
       "      <td>-1.148509</td>\n",
       "      <td>0.202467</td>\n",
       "      <td>-0.444097</td>\n",
       "      <td>0.698097</td>\n",
       "      <td>0.772675</td>\n",
       "      <td>0.573799</td>\n",
       "      <td>0.438554</td>\n",
       "      <td>0.0</td>\n",
       "      <td>-0.429216</td>\n",
       "      <td>...</td>\n",
       "      <td>0.603012</td>\n",
       "      <td>-0.651142</td>\n",
       "      <td>0.0</td>\n",
       "      <td>-0.171499</td>\n",
       "      <td>0.0</td>\n",
       "      <td>0.0</td>\n",
       "      <td>0.544331</td>\n",
       "      <td>0.0</td>\n",
       "      <td>-0.171499</td>\n",
       "      <td>1</td>\n",
       "    </tr>\n",
       "    <tr>\n",
       "      <th>9</th>\n",
       "      <td>-0.461005</td>\n",
       "      <td>-1.107152</td>\n",
       "      <td>1.073602</td>\n",
       "      <td>0.231703</td>\n",
       "      <td>1.154187</td>\n",
       "      <td>0.778375</td>\n",
       "      <td>0.002517</td>\n",
       "      <td>0.055394</td>\n",
       "      <td>0.0</td>\n",
       "      <td>-0.239747</td>\n",
       "      <td>...</td>\n",
       "      <td>0.735244</td>\n",
       "      <td>-0.460078</td>\n",
       "      <td>0.0</td>\n",
       "      <td>-0.171499</td>\n",
       "      <td>0.0</td>\n",
       "      <td>0.0</td>\n",
       "      <td>0.544331</td>\n",
       "      <td>0.0</td>\n",
       "      <td>-0.171499</td>\n",
       "      <td>1</td>\n",
       "    </tr>\n",
       "    <tr>\n",
       "      <th>10</th>\n",
       "      <td>-0.390851</td>\n",
       "      <td>-1.004130</td>\n",
       "      <td>0.437003</td>\n",
       "      <td>-0.781998</td>\n",
       "      <td>-0.800484</td>\n",
       "      <td>-1.735424</td>\n",
       "      <td>-1.637136</td>\n",
       "      <td>-1.587676</td>\n",
       "      <td>0.0</td>\n",
       "      <td>-0.395142</td>\n",
       "      <td>...</td>\n",
       "      <td>0.691712</td>\n",
       "      <td>-0.389907</td>\n",
       "      <td>0.0</td>\n",
       "      <td>-0.171499</td>\n",
       "      <td>0.0</td>\n",
       "      <td>0.0</td>\n",
       "      <td>-1.837117</td>\n",
       "      <td>0.0</td>\n",
       "      <td>-0.171499</td>\n",
       "      <td>1</td>\n",
       "    </tr>\n",
       "    <tr>\n",
       "      <th>11</th>\n",
       "      <td>0.557532</td>\n",
       "      <td>-0.681722</td>\n",
       "      <td>-1.573308</td>\n",
       "      <td>2.934904</td>\n",
       "      <td>-2.581407</td>\n",
       "      <td>-0.900122</td>\n",
       "      <td>0.542410</td>\n",
       "      <td>0.137825</td>\n",
       "      <td>0.0</td>\n",
       "      <td>4.596733</td>\n",
       "      <td>...</td>\n",
       "      <td>1.226528</td>\n",
       "      <td>0.557849</td>\n",
       "      <td>0.0</td>\n",
       "      <td>-0.171499</td>\n",
       "      <td>0.0</td>\n",
       "      <td>0.0</td>\n",
       "      <td>0.544331</td>\n",
       "      <td>0.0</td>\n",
       "      <td>-0.171499</td>\n",
       "      <td>1</td>\n",
       "    </tr>\n",
       "    <tr>\n",
       "      <th>12</th>\n",
       "      <td>0.768645</td>\n",
       "      <td>-0.626431</td>\n",
       "      <td>-1.573308</td>\n",
       "      <td>-0.275147</td>\n",
       "      <td>0.024821</td>\n",
       "      <td>-0.110860</td>\n",
       "      <td>0.512448</td>\n",
       "      <td>0.348425</td>\n",
       "      <td>0.0</td>\n",
       "      <td>-0.093303</td>\n",
       "      <td>...</td>\n",
       "      <td>1.362987</td>\n",
       "      <td>0.768608</td>\n",
       "      <td>0.0</td>\n",
       "      <td>-0.171499</td>\n",
       "      <td>0.0</td>\n",
       "      <td>0.0</td>\n",
       "      <td>0.544331</td>\n",
       "      <td>0.0</td>\n",
       "      <td>-0.171499</td>\n",
       "      <td>1</td>\n",
       "    </tr>\n",
       "    <tr>\n",
       "      <th>13</th>\n",
       "      <td>0.949227</td>\n",
       "      <td>-0.587001</td>\n",
       "      <td>-1.573308</td>\n",
       "      <td>0.400653</td>\n",
       "      <td>0.024821</td>\n",
       "      <td>-0.110860</td>\n",
       "      <td>-0.001192</td>\n",
       "      <td>0.053905</td>\n",
       "      <td>0.0</td>\n",
       "      <td>-0.299838</td>\n",
       "      <td>...</td>\n",
       "      <td>1.487977</td>\n",
       "      <td>0.948826</td>\n",
       "      <td>0.0</td>\n",
       "      <td>-0.171499</td>\n",
       "      <td>0.0</td>\n",
       "      <td>0.0</td>\n",
       "      <td>0.544331</td>\n",
       "      <td>0.0</td>\n",
       "      <td>-0.171499</td>\n",
       "      <td>1</td>\n",
       "    </tr>\n",
       "    <tr>\n",
       "      <th>14</th>\n",
       "      <td>1.105450</td>\n",
       "      <td>-0.298093</td>\n",
       "      <td>1.006592</td>\n",
       "      <td>-0.444097</td>\n",
       "      <td>3.369481</td>\n",
       "      <td>4.278314</td>\n",
       "      <td>2.855218</td>\n",
       "      <td>1.964741</td>\n",
       "      <td>0.0</td>\n",
       "      <td>1.262750</td>\n",
       "      <td>...</td>\n",
       "      <td>1.329638</td>\n",
       "      <td>1.104687</td>\n",
       "      <td>0.0</td>\n",
       "      <td>-0.171499</td>\n",
       "      <td>0.0</td>\n",
       "      <td>0.0</td>\n",
       "      <td>0.544331</td>\n",
       "      <td>0.0</td>\n",
       "      <td>-0.171499</td>\n",
       "      <td>-1</td>\n",
       "    </tr>\n",
       "    <tr>\n",
       "      <th>15</th>\n",
       "      <td>1.146374</td>\n",
       "      <td>-0.192848</td>\n",
       "      <td>0.705045</td>\n",
       "      <td>-0.950948</td>\n",
       "      <td>-0.366113</td>\n",
       "      <td>-1.136900</td>\n",
       "      <td>-3.525334</td>\n",
       "      <td>-4.661143</td>\n",
       "      <td>0.0</td>\n",
       "      <td>-0.430296</td>\n",
       "      <td>...</td>\n",
       "      <td>1.257272</td>\n",
       "      <td>1.145509</td>\n",
       "      <td>0.0</td>\n",
       "      <td>-0.171499</td>\n",
       "      <td>0.0</td>\n",
       "      <td>0.0</td>\n",
       "      <td>0.544331</td>\n",
       "      <td>0.0</td>\n",
       "      <td>-0.171499</td>\n",
       "      <td>-1</td>\n",
       "    </tr>\n",
       "    <tr>\n",
       "      <th>16</th>\n",
       "      <td>1.147348</td>\n",
       "      <td>-0.073223</td>\n",
       "      <td>0.855818</td>\n",
       "      <td>-0.613047</td>\n",
       "      <td>0.220288</td>\n",
       "      <td>0.196952</td>\n",
       "      <td>0.866859</td>\n",
       "      <td>0.750740</td>\n",
       "      <td>0.0</td>\n",
       "      <td>-0.335453</td>\n",
       "      <td>...</td>\n",
       "      <td>1.133072</td>\n",
       "      <td>1.146481</td>\n",
       "      <td>0.0</td>\n",
       "      <td>-0.171499</td>\n",
       "      <td>0.0</td>\n",
       "      <td>0.0</td>\n",
       "      <td>-1.837117</td>\n",
       "      <td>0.0</td>\n",
       "      <td>-0.171499</td>\n",
       "      <td>1</td>\n",
       "    </tr>\n",
       "    <tr>\n",
       "      <th>17</th>\n",
       "      <td>1.100903</td>\n",
       "      <td>0.037952</td>\n",
       "      <td>0.738550</td>\n",
       "      <td>-0.613047</td>\n",
       "      <td>-0.127209</td>\n",
       "      <td>-0.350269</td>\n",
       "      <td>-0.357316</td>\n",
       "      <td>-0.231975</td>\n",
       "      <td>0.0</td>\n",
       "      <td>-0.373378</td>\n",
       "      <td>...</td>\n",
       "      <td>0.973999</td>\n",
       "      <td>1.100151</td>\n",
       "      <td>0.0</td>\n",
       "      <td>-0.171499</td>\n",
       "      <td>0.0</td>\n",
       "      <td>0.0</td>\n",
       "      <td>-1.837117</td>\n",
       "      <td>0.0</td>\n",
       "      <td>-0.171499</td>\n",
       "      <td>1</td>\n",
       "    </tr>\n",
       "    <tr>\n",
       "      <th>18</th>\n",
       "      <td>1.020681</td>\n",
       "      <td>0.132821</td>\n",
       "      <td>0.772055</td>\n",
       "      <td>-0.613047</td>\n",
       "      <td>0.068258</td>\n",
       "      <td>-0.042457</td>\n",
       "      <td>0.199127</td>\n",
       "      <td>0.214713</td>\n",
       "      <td>0.0</td>\n",
       "      <td>-0.432919</td>\n",
       "      <td>...</td>\n",
       "      <td>0.800820</td>\n",
       "      <td>1.020119</td>\n",
       "      <td>0.0</td>\n",
       "      <td>-0.171499</td>\n",
       "      <td>0.0</td>\n",
       "      <td>0.0</td>\n",
       "      <td>-1.837117</td>\n",
       "      <td>0.0</td>\n",
       "      <td>-0.171499</td>\n",
       "      <td>1</td>\n",
       "    </tr>\n",
       "    <tr>\n",
       "      <th>19</th>\n",
       "      <td>0.958321</td>\n",
       "      <td>0.237919</td>\n",
       "      <td>0.671540</td>\n",
       "      <td>-0.613047</td>\n",
       "      <td>-0.105490</td>\n",
       "      <td>-0.316068</td>\n",
       "      <td>-0.179254</td>\n",
       "      <td>-0.089035</td>\n",
       "      <td>0.0</td>\n",
       "      <td>-0.395308</td>\n",
       "      <td>...</td>\n",
       "      <td>0.633390</td>\n",
       "      <td>0.957900</td>\n",
       "      <td>0.0</td>\n",
       "      <td>-0.171499</td>\n",
       "      <td>0.0</td>\n",
       "      <td>0.0</td>\n",
       "      <td>-1.837117</td>\n",
       "      <td>0.0</td>\n",
       "      <td>-0.171499</td>\n",
       "      <td>1</td>\n",
       "    </tr>\n",
       "    <tr>\n",
       "      <th>20</th>\n",
       "      <td>0.899534</td>\n",
       "      <td>0.341831</td>\n",
       "      <td>0.755303</td>\n",
       "      <td>-0.613047</td>\n",
       "      <td>0.133414</td>\n",
       "      <td>0.060147</td>\n",
       "      <td>0.243643</td>\n",
       "      <td>0.250449</td>\n",
       "      <td>0.0</td>\n",
       "      <td>-0.411820</td>\n",
       "      <td>...</td>\n",
       "      <td>0.470475</td>\n",
       "      <td>0.899239</td>\n",
       "      <td>0.0</td>\n",
       "      <td>-0.171499</td>\n",
       "      <td>0.0</td>\n",
       "      <td>0.0</td>\n",
       "      <td>-1.837117</td>\n",
       "      <td>0.0</td>\n",
       "      <td>-0.171499</td>\n",
       "      <td>1</td>\n",
       "    </tr>\n",
       "    <tr>\n",
       "      <th>21</th>\n",
       "      <td>0.835226</td>\n",
       "      <td>0.451079</td>\n",
       "      <td>0.939581</td>\n",
       "      <td>-0.613047</td>\n",
       "      <td>0.263726</td>\n",
       "      <td>0.265355</td>\n",
       "      <td>0.132354</td>\n",
       "      <td>0.161111</td>\n",
       "      <td>0.0</td>\n",
       "      <td>-0.358232</td>\n",
       "      <td>...</td>\n",
       "      <td>0.296863</td>\n",
       "      <td>0.835062</td>\n",
       "      <td>0.0</td>\n",
       "      <td>-0.171499</td>\n",
       "      <td>0.0</td>\n",
       "      <td>0.0</td>\n",
       "      <td>-1.837117</td>\n",
       "      <td>0.0</td>\n",
       "      <td>-0.171499</td>\n",
       "      <td>1</td>\n",
       "    </tr>\n",
       "    <tr>\n",
       "      <th>22</th>\n",
       "      <td>0.783910</td>\n",
       "      <td>0.551878</td>\n",
       "      <td>0.822313</td>\n",
       "      <td>-0.613047</td>\n",
       "      <td>-0.127209</td>\n",
       "      <td>-0.350270</td>\n",
       "      <td>-0.401832</td>\n",
       "      <td>-0.267711</td>\n",
       "      <td>0.0</td>\n",
       "      <td>-0.450699</td>\n",
       "      <td>...</td>\n",
       "      <td>0.144057</td>\n",
       "      <td>0.783844</td>\n",
       "      <td>0.0</td>\n",
       "      <td>-0.171499</td>\n",
       "      <td>0.0</td>\n",
       "      <td>0.0</td>\n",
       "      <td>-1.837117</td>\n",
       "      <td>0.0</td>\n",
       "      <td>-0.171499</td>\n",
       "      <td>1</td>\n",
       "    </tr>\n",
       "    <tr>\n",
       "      <th>23</th>\n",
       "      <td>0.704661</td>\n",
       "      <td>0.667796</td>\n",
       "      <td>0.587777</td>\n",
       "      <td>-0.444097</td>\n",
       "      <td>-0.279239</td>\n",
       "      <td>-0.509876</td>\n",
       "      <td>-0.105062</td>\n",
       "      <td>-0.015579</td>\n",
       "      <td>0.0</td>\n",
       "      <td>-0.273655</td>\n",
       "      <td>...</td>\n",
       "      <td>-0.050366</td>\n",
       "      <td>0.704740</td>\n",
       "      <td>0.0</td>\n",
       "      <td>-0.171499</td>\n",
       "      <td>0.0</td>\n",
       "      <td>0.0</td>\n",
       "      <td>0.544331</td>\n",
       "      <td>0.0</td>\n",
       "      <td>-0.171499</td>\n",
       "      <td>1</td>\n",
       "    </tr>\n",
       "    <tr>\n",
       "      <th>24</th>\n",
       "      <td>0.650422</td>\n",
       "      <td>0.767558</td>\n",
       "      <td>0.705045</td>\n",
       "      <td>-0.613047</td>\n",
       "      <td>0.176851</td>\n",
       "      <td>0.128550</td>\n",
       "      <td>0.414286</td>\n",
       "      <td>0.387433</td>\n",
       "      <td>0.0</td>\n",
       "      <td>-0.453844</td>\n",
       "      <td>...</td>\n",
       "      <td>-0.204824</td>\n",
       "      <td>0.650593</td>\n",
       "      <td>0.0</td>\n",
       "      <td>-0.171499</td>\n",
       "      <td>0.0</td>\n",
       "      <td>0.0</td>\n",
       "      <td>0.544331</td>\n",
       "      <td>0.0</td>\n",
       "      <td>-0.171499</td>\n",
       "      <td>1</td>\n",
       "    </tr>\n",
       "    <tr>\n",
       "      <th>25</th>\n",
       "      <td>0.601379</td>\n",
       "      <td>0.879770</td>\n",
       "      <td>1.023344</td>\n",
       "      <td>-0.613047</td>\n",
       "      <td>0.437474</td>\n",
       "      <td>0.538966</td>\n",
       "      <td>0.265900</td>\n",
       "      <td>0.268316</td>\n",
       "      <td>0.0</td>\n",
       "      <td>-0.360943</td>\n",
       "      <td>...</td>\n",
       "      <td>-0.367532</td>\n",
       "      <td>0.601629</td>\n",
       "      <td>0.0</td>\n",
       "      <td>-0.171499</td>\n",
       "      <td>0.0</td>\n",
       "      <td>0.0</td>\n",
       "      <td>0.544331</td>\n",
       "      <td>0.0</td>\n",
       "      <td>-0.171499</td>\n",
       "      <td>1</td>\n",
       "    </tr>\n",
       "    <tr>\n",
       "      <th>26</th>\n",
       "      <td>0.575720</td>\n",
       "      <td>1.023260</td>\n",
       "      <td>0.872571</td>\n",
       "      <td>-0.444097</td>\n",
       "      <td>-0.170646</td>\n",
       "      <td>-0.367370</td>\n",
       "      <td>-0.591022</td>\n",
       "      <td>-0.340670</td>\n",
       "      <td>0.0</td>\n",
       "      <td>-0.122785</td>\n",
       "      <td>...</td>\n",
       "      <td>-0.541393</td>\n",
       "      <td>0.576010</td>\n",
       "      <td>0.0</td>\n",
       "      <td>-0.171499</td>\n",
       "      <td>0.0</td>\n",
       "      <td>0.0</td>\n",
       "      <td>0.544331</td>\n",
       "      <td>0.0</td>\n",
       "      <td>-0.171499</td>\n",
       "      <td>1</td>\n",
       "    </tr>\n",
       "    <tr>\n",
       "      <th>27</th>\n",
       "      <td>0.565652</td>\n",
       "      <td>1.132805</td>\n",
       "      <td>0.922829</td>\n",
       "      <td>-0.613047</td>\n",
       "      <td>0.089977</td>\n",
       "      <td>-0.008256</td>\n",
       "      <td>0.232514</td>\n",
       "      <td>0.241515</td>\n",
       "      <td>0.0</td>\n",
       "      <td>-0.420128</td>\n",
       "      <td>...</td>\n",
       "      <td>-0.665334</td>\n",
       "      <td>0.565957</td>\n",
       "      <td>0.0</td>\n",
       "      <td>-0.171499</td>\n",
       "      <td>0.0</td>\n",
       "      <td>0.0</td>\n",
       "      <td>0.544331</td>\n",
       "      <td>0.0</td>\n",
       "      <td>-0.171499</td>\n",
       "      <td>1</td>\n",
       "    </tr>\n",
       "    <tr>\n",
       "      <th>28</th>\n",
       "      <td>0.592609</td>\n",
       "      <td>1.263102</td>\n",
       "      <td>1.056849</td>\n",
       "      <td>-0.444097</td>\n",
       "      <td>0.198570</td>\n",
       "      <td>0.117149</td>\n",
       "      <td>0.080419</td>\n",
       "      <td>0.108500</td>\n",
       "      <td>0.0</td>\n",
       "      <td>-0.234012</td>\n",
       "      <td>...</td>\n",
       "      <td>-0.776781</td>\n",
       "      <td>0.592873</td>\n",
       "      <td>0.0</td>\n",
       "      <td>-0.171499</td>\n",
       "      <td>0.0</td>\n",
       "      <td>0.0</td>\n",
       "      <td>0.544331</td>\n",
       "      <td>0.0</td>\n",
       "      <td>-0.171499</td>\n",
       "      <td>1</td>\n",
       "    </tr>\n",
       "    <tr>\n",
       "      <th>29</th>\n",
       "      <td>0.482506</td>\n",
       "      <td>1.331734</td>\n",
       "      <td>0.738550</td>\n",
       "      <td>-0.275147</td>\n",
       "      <td>-0.387831</td>\n",
       "      <td>-0.575021</td>\n",
       "      <td>-0.451646</td>\n",
       "      <td>-0.204384</td>\n",
       "      <td>0.0</td>\n",
       "      <td>-0.510926</td>\n",
       "      <td>...</td>\n",
       "      <td>-0.950355</td>\n",
       "      <td>0.482930</td>\n",
       "      <td>0.0</td>\n",
       "      <td>-0.171499</td>\n",
       "      <td>0.0</td>\n",
       "      <td>0.0</td>\n",
       "      <td>0.544331</td>\n",
       "      <td>0.0</td>\n",
       "      <td>-0.171499</td>\n",
       "      <td>1</td>\n",
       "    </tr>\n",
       "    <tr>\n",
       "      <th>30</th>\n",
       "      <td>0.381821</td>\n",
       "      <td>1.409705</td>\n",
       "      <td>0.336488</td>\n",
       "      <td>-0.613047</td>\n",
       "      <td>-0.496425</td>\n",
       "      <td>-0.931692</td>\n",
       "      <td>-0.233309</td>\n",
       "      <td>-0.132428</td>\n",
       "      <td>0.0</td>\n",
       "      <td>-0.488295</td>\n",
       "      <td>...</td>\n",
       "      <td>-1.125025</td>\n",
       "      <td>0.382373</td>\n",
       "      <td>0.0</td>\n",
       "      <td>-0.171499</td>\n",
       "      <td>0.0</td>\n",
       "      <td>0.0</td>\n",
       "      <td>0.544331</td>\n",
       "      <td>0.0</td>\n",
       "      <td>-0.171499</td>\n",
       "      <td>1</td>\n",
       "    </tr>\n",
       "    <tr>\n",
       "      <th>31</th>\n",
       "      <td>-0.287568</td>\n",
       "      <td>1.294083</td>\n",
       "      <td>-1.573308</td>\n",
       "      <td>3.610705</td>\n",
       "      <td>-2.451096</td>\n",
       "      <td>-0.760686</td>\n",
       "      <td>0.110096</td>\n",
       "      <td>0.068795</td>\n",
       "      <td>0.0</td>\n",
       "      <td>2.494677</td>\n",
       "      <td>...</td>\n",
       "      <td>-1.622561</td>\n",
       "      <td>-0.286616</td>\n",
       "      <td>0.0</td>\n",
       "      <td>-0.171499</td>\n",
       "      <td>0.0</td>\n",
       "      <td>0.0</td>\n",
       "      <td>0.544331</td>\n",
       "      <td>0.0</td>\n",
       "      <td>-0.171499</td>\n",
       "      <td>1</td>\n",
       "    </tr>\n",
       "    <tr>\n",
       "      <th>32</th>\n",
       "      <td>-0.443466</td>\n",
       "      <td>1.308758</td>\n",
       "      <td>-1.573308</td>\n",
       "      <td>0.231703</td>\n",
       "      <td>0.024821</td>\n",
       "      <td>-0.110860</td>\n",
       "      <td>0.421705</td>\n",
       "      <td>0.223647</td>\n",
       "      <td>0.0</td>\n",
       "      <td>-0.483381</td>\n",
       "      <td>...</td>\n",
       "      <td>-1.782005</td>\n",
       "      <td>-0.442534</td>\n",
       "      <td>0.0</td>\n",
       "      <td>-0.171499</td>\n",
       "      <td>0.0</td>\n",
       "      <td>0.0</td>\n",
       "      <td>0.544331</td>\n",
       "      <td>0.0</td>\n",
       "      <td>-0.171499</td>\n",
       "      <td>1</td>\n",
       "    </tr>\n",
       "    <tr>\n",
       "      <th>33</th>\n",
       "      <td>-0.770204</td>\n",
       "      <td>1.406148</td>\n",
       "      <td>-1.573308</td>\n",
       "      <td>0.400653</td>\n",
       "      <td>0.024821</td>\n",
       "      <td>-0.110860</td>\n",
       "      <td>-0.001192</td>\n",
       "      <td>0.053905</td>\n",
       "      <td>0.0</td>\n",
       "      <td>0.640531</td>\n",
       "      <td>...</td>\n",
       "      <td>-2.186089</td>\n",
       "      <td>-0.769451</td>\n",
       "      <td>0.0</td>\n",
       "      <td>-0.171499</td>\n",
       "      <td>0.0</td>\n",
       "      <td>0.0</td>\n",
       "      <td>0.544331</td>\n",
       "      <td>0.0</td>\n",
       "      <td>-0.171499</td>\n",
       "      <td>1</td>\n",
       "    </tr>\n",
       "    <tr>\n",
       "      <th>34</th>\n",
       "      <td>-0.953384</td>\n",
       "      <td>1.454027</td>\n",
       "      <td>-1.573308</td>\n",
       "      <td>2.090154</td>\n",
       "      <td>0.024821</td>\n",
       "      <td>-0.110860</td>\n",
       "      <td>-0.001192</td>\n",
       "      <td>0.053905</td>\n",
       "      <td>0.0</td>\n",
       "      <td>-0.261212</td>\n",
       "      <td>...</td>\n",
       "      <td>-2.405629</td>\n",
       "      <td>-0.952814</td>\n",
       "      <td>0.0</td>\n",
       "      <td>5.830952</td>\n",
       "      <td>0.0</td>\n",
       "      <td>0.0</td>\n",
       "      <td>0.544331</td>\n",
       "      <td>0.0</td>\n",
       "      <td>5.830952</td>\n",
       "      <td>-1</td>\n",
       "    </tr>\n",
       "  </tbody>\n",
       "</table>\n",
       "<p>35 rows × 25 columns</p>\n",
       "</div>"
      ],
      "text/plain": [
       "    latitude  longitude  instantaneous_speed  time_difference  \\\n",
       "0  -1.829989  -1.246640            -1.573308         0.400653   \n",
       "1  -1.636740  -1.208989            -0.752431        -0.106197   \n",
       "2  -1.749116  -1.291406            -0.568152         0.231703   \n",
       "3  -1.890075  -1.258350             0.369993         0.569603   \n",
       "4  -1.720210  -1.231520             0.101952         0.231703   \n",
       "5  -1.253164  -1.241452            -1.154493         0.738553   \n",
       "6  -1.007949  -1.278065            -0.316863        -0.781998   \n",
       "7  -0.782221  -1.216697            -0.316863         0.062753   \n",
       "8  -0.651981  -1.148509             0.202467        -0.444097   \n",
       "9  -0.461005  -1.107152             1.073602         0.231703   \n",
       "10 -0.390851  -1.004130             0.437003        -0.781998   \n",
       "11  0.557532  -0.681722            -1.573308         2.934904   \n",
       "12  0.768645  -0.626431            -1.573308        -0.275147   \n",
       "13  0.949227  -0.587001            -1.573308         0.400653   \n",
       "14  1.105450  -0.298093             1.006592        -0.444097   \n",
       "15  1.146374  -0.192848             0.705045        -0.950948   \n",
       "16  1.147348  -0.073223             0.855818        -0.613047   \n",
       "17  1.100903   0.037952             0.738550        -0.613047   \n",
       "18  1.020681   0.132821             0.772055        -0.613047   \n",
       "19  0.958321   0.237919             0.671540        -0.613047   \n",
       "20  0.899534   0.341831             0.755303        -0.613047   \n",
       "21  0.835226   0.451079             0.939581        -0.613047   \n",
       "22  0.783910   0.551878             0.822313        -0.613047   \n",
       "23  0.704661   0.667796             0.587777        -0.444097   \n",
       "24  0.650422   0.767558             0.705045        -0.613047   \n",
       "25  0.601379   0.879770             1.023344        -0.613047   \n",
       "26  0.575720   1.023260             0.872571        -0.444097   \n",
       "27  0.565652   1.132805             0.922829        -0.613047   \n",
       "28  0.592609   1.263102             1.056849        -0.444097   \n",
       "29  0.482506   1.331734             0.738550        -0.275147   \n",
       "30  0.381821   1.409705             0.336488        -0.613047   \n",
       "31 -0.287568   1.294083            -1.573308         3.610705   \n",
       "32 -0.443466   1.308758            -1.573308         0.231703   \n",
       "33 -0.770204   1.406148            -1.573308         0.400653   \n",
       "34 -0.953384   1.454027            -1.573308         2.090154   \n",
       "\n",
       "    insta_speed_difference  instantaneous_acceleration  \\\n",
       "0                -0.843922                   -0.732703   \n",
       "1                 1.089031                    0.936556   \n",
       "2                 0.263725                    0.077247   \n",
       "3                 1.241061                    0.687172   \n",
       "4                -0.322676                   -0.384471   \n",
       "5                -1.604072                   -1.097437   \n",
       "6                 1.110750                    2.026725   \n",
       "7                 0.024821                   -0.110860   \n",
       "8                 0.698097                    0.772675   \n",
       "9                 1.154187                    0.778375   \n",
       "10               -0.800484                   -1.735424   \n",
       "11               -2.581407                   -0.900122   \n",
       "12                0.024821                   -0.110860   \n",
       "13                0.024821                   -0.110860   \n",
       "14                3.369481                    4.278314   \n",
       "15               -0.366113                   -1.136900   \n",
       "16                0.220288                    0.196952   \n",
       "17               -0.127209                   -0.350269   \n",
       "18                0.068258                   -0.042457   \n",
       "19               -0.105490                   -0.316068   \n",
       "20                0.133414                    0.060147   \n",
       "21                0.263726                    0.265355   \n",
       "22               -0.127209                   -0.350270   \n",
       "23               -0.279239                   -0.509876   \n",
       "24                0.176851                    0.128550   \n",
       "25                0.437474                    0.538966   \n",
       "26               -0.170646                   -0.367370   \n",
       "27                0.089977                   -0.008256   \n",
       "28                0.198570                    0.117149   \n",
       "29               -0.387831                   -0.575021   \n",
       "30               -0.496425                   -0.931692   \n",
       "31               -2.451096                   -0.760686   \n",
       "32                0.024821                   -0.110860   \n",
       "33                0.024821                   -0.110860   \n",
       "34                0.024821                   -0.110860   \n",
       "\n",
       "    insta_acceleration_difference  instantaneous_jerk  ClosedTransit  \\\n",
       "0                       -0.364145           -0.078532            0.0   \n",
       "1                        1.085137            0.598942            0.0   \n",
       "2                       -0.560418           -0.170556            0.0   \n",
       "3                        0.395737            0.186671            0.0   \n",
       "4                       -0.698602           -0.226020            0.0   \n",
       "5                       -0.465181           -0.089352            0.0   \n",
       "6                        2.031967            2.094071            0.0   \n",
       "7                       -1.392301           -0.566496            0.0   \n",
       "8                        0.573799            0.438554            0.0   \n",
       "9                        0.002517            0.055394            0.0   \n",
       "10                      -1.637136           -1.587676            0.0   \n",
       "11                       0.542410            0.137825            0.0   \n",
       "12                       0.512448            0.348425            0.0   \n",
       "13                      -0.001192            0.053905            0.0   \n",
       "14                       2.855218            1.964741            0.0   \n",
       "15                      -3.525334           -4.661143            0.0   \n",
       "16                       0.866859            0.750740            0.0   \n",
       "17                      -0.357316           -0.231975            0.0   \n",
       "18                       0.199127            0.214713            0.0   \n",
       "19                      -0.179254           -0.089035            0.0   \n",
       "20                       0.243643            0.250449            0.0   \n",
       "21                       0.132354            0.161111            0.0   \n",
       "22                      -0.401832           -0.267711            0.0   \n",
       "23                      -0.105062           -0.015579            0.0   \n",
       "24                       0.414286            0.387433            0.0   \n",
       "25                       0.265900            0.268316            0.0   \n",
       "26                      -0.591022           -0.340670            0.0   \n",
       "27                       0.232514            0.241515            0.0   \n",
       "28                       0.080419            0.108500            0.0   \n",
       "29                      -0.451646           -0.204384            0.0   \n",
       "30                      -0.233309           -0.132428            0.0   \n",
       "31                       0.110096            0.068795            0.0   \n",
       "32                       0.421705            0.223647            0.0   \n",
       "33                      -0.001192            0.053905            0.0   \n",
       "34                      -0.001192            0.053905            0.0   \n",
       "\n",
       "    Distance  ...  y_coordinate  z_coordinate  Application_stop  \\\n",
       "0  -0.455222  ...     -0.377020     -1.831105               0.0   \n",
       "1  -0.237261  ...     -0.238938     -1.637369               0.0   \n",
       "2  -0.416943  ...     -0.255607     -1.750021               0.0   \n",
       "3  -0.526056  ...     -0.419943     -1.891356               0.0   \n",
       "4  -0.387183  ...     -0.291993     -1.721042               0.0   \n",
       "5   1.240583  ...      0.147825     -1.253020               0.0   \n",
       "6   0.040206  ...      0.411711     -1.007445               0.0   \n",
       "7   0.001718  ...      0.554815     -0.781479               0.0   \n",
       "8  -0.429216  ...      0.603012     -0.651142               0.0   \n",
       "9  -0.239747  ...      0.735244     -0.460078               0.0   \n",
       "10 -0.395142  ...      0.691712     -0.389907               0.0   \n",
       "11  4.596733  ...      1.226528      0.557849               0.0   \n",
       "12 -0.093303  ...      1.362987      0.768608               0.0   \n",
       "13 -0.299838  ...      1.487977      0.948826               0.0   \n",
       "14  1.262750  ...      1.329638      1.104687               0.0   \n",
       "15 -0.430296  ...      1.257272      1.145509               0.0   \n",
       "16 -0.335453  ...      1.133072      1.146481               0.0   \n",
       "17 -0.373378  ...      0.973999      1.100151               0.0   \n",
       "18 -0.432919  ...      0.800820      1.020119               0.0   \n",
       "19 -0.395308  ...      0.633390      0.957900               0.0   \n",
       "20 -0.411820  ...      0.470475      0.899239               0.0   \n",
       "21 -0.358232  ...      0.296863      0.835062               0.0   \n",
       "22 -0.450699  ...      0.144057      0.783844               0.0   \n",
       "23 -0.273655  ...     -0.050366      0.704740               0.0   \n",
       "24 -0.453844  ...     -0.204824      0.650593               0.0   \n",
       "25 -0.360943  ...     -0.367532      0.601629               0.0   \n",
       "26 -0.122785  ...     -0.541393      0.576010               0.0   \n",
       "27 -0.420128  ...     -0.665334      0.565957               0.0   \n",
       "28 -0.234012  ...     -0.776781      0.592873               0.0   \n",
       "29 -0.510926  ...     -0.950355      0.482930               0.0   \n",
       "30 -0.488295  ...     -1.125025      0.382373               0.0   \n",
       "31  2.494677  ...     -1.622561     -0.286616               0.0   \n",
       "32 -0.483381  ...     -1.782005     -0.442534               0.0   \n",
       "33  0.640531  ...     -2.186089     -0.769451               0.0   \n",
       "34 -0.261212  ...     -2.405629     -0.952814               0.0   \n",
       "\n",
       "    signal_loss_stops  Home_location_distance  Work_location_distance  \\\n",
       "0           -0.171499                     0.0                     0.0   \n",
       "1           -0.171499                     0.0                     0.0   \n",
       "2           -0.171499                     0.0                     0.0   \n",
       "3           -0.171499                     0.0                     0.0   \n",
       "4           -0.171499                     0.0                     0.0   \n",
       "5           -0.171499                     0.0                     0.0   \n",
       "6           -0.171499                     0.0                     0.0   \n",
       "7           -0.171499                     0.0                     0.0   \n",
       "8           -0.171499                     0.0                     0.0   \n",
       "9           -0.171499                     0.0                     0.0   \n",
       "10          -0.171499                     0.0                     0.0   \n",
       "11          -0.171499                     0.0                     0.0   \n",
       "12          -0.171499                     0.0                     0.0   \n",
       "13          -0.171499                     0.0                     0.0   \n",
       "14          -0.171499                     0.0                     0.0   \n",
       "15          -0.171499                     0.0                     0.0   \n",
       "16          -0.171499                     0.0                     0.0   \n",
       "17          -0.171499                     0.0                     0.0   \n",
       "18          -0.171499                     0.0                     0.0   \n",
       "19          -0.171499                     0.0                     0.0   \n",
       "20          -0.171499                     0.0                     0.0   \n",
       "21          -0.171499                     0.0                     0.0   \n",
       "22          -0.171499                     0.0                     0.0   \n",
       "23          -0.171499                     0.0                     0.0   \n",
       "24          -0.171499                     0.0                     0.0   \n",
       "25          -0.171499                     0.0                     0.0   \n",
       "26          -0.171499                     0.0                     0.0   \n",
       "27          -0.171499                     0.0                     0.0   \n",
       "28          -0.171499                     0.0                     0.0   \n",
       "29          -0.171499                     0.0                     0.0   \n",
       "30          -0.171499                     0.0                     0.0   \n",
       "31          -0.171499                     0.0                     0.0   \n",
       "32          -0.171499                     0.0                     0.0   \n",
       "33          -0.171499                     0.0                     0.0   \n",
       "34           5.830952                     0.0                     0.0   \n",
       "\n",
       "    large_cluster  Cluster_trip_stops  Trip_ends  anomaly  \n",
       "0        0.544331                 0.0  -0.171499        1  \n",
       "1        0.544331                 0.0  -0.171499        1  \n",
       "2        0.544331                 0.0  -0.171499        1  \n",
       "3        0.544331                 0.0  -0.171499        1  \n",
       "4        0.544331                 0.0  -0.171499        1  \n",
       "5        0.544331                 0.0  -0.171499        1  \n",
       "6        0.544331                 0.0  -0.171499       -1  \n",
       "7        0.544331                 0.0  -0.171499        1  \n",
       "8        0.544331                 0.0  -0.171499        1  \n",
       "9        0.544331                 0.0  -0.171499        1  \n",
       "10      -1.837117                 0.0  -0.171499        1  \n",
       "11       0.544331                 0.0  -0.171499        1  \n",
       "12       0.544331                 0.0  -0.171499        1  \n",
       "13       0.544331                 0.0  -0.171499        1  \n",
       "14       0.544331                 0.0  -0.171499       -1  \n",
       "15       0.544331                 0.0  -0.171499       -1  \n",
       "16      -1.837117                 0.0  -0.171499        1  \n",
       "17      -1.837117                 0.0  -0.171499        1  \n",
       "18      -1.837117                 0.0  -0.171499        1  \n",
       "19      -1.837117                 0.0  -0.171499        1  \n",
       "20      -1.837117                 0.0  -0.171499        1  \n",
       "21      -1.837117                 0.0  -0.171499        1  \n",
       "22      -1.837117                 0.0  -0.171499        1  \n",
       "23       0.544331                 0.0  -0.171499        1  \n",
       "24       0.544331                 0.0  -0.171499        1  \n",
       "25       0.544331                 0.0  -0.171499        1  \n",
       "26       0.544331                 0.0  -0.171499        1  \n",
       "27       0.544331                 0.0  -0.171499        1  \n",
       "28       0.544331                 0.0  -0.171499        1  \n",
       "29       0.544331                 0.0  -0.171499        1  \n",
       "30       0.544331                 0.0  -0.171499        1  \n",
       "31       0.544331                 0.0  -0.171499        1  \n",
       "32       0.544331                 0.0  -0.171499        1  \n",
       "33       0.544331                 0.0  -0.171499        1  \n",
       "34       0.544331                 0.0   5.830952       -1  \n",
       "\n",
       "[35 rows x 25 columns]"
      ]
     },
     "execution_count": 96,
     "metadata": {},
     "output_type": "execute_result"
    }
   ],
   "source": [
    "isolation_numeric"
   ]
  },
  {
   "cell_type": "code",
   "execution_count": 97,
   "metadata": {},
   "outputs": [
    {
     "data": {
      "text/plain": [
       "[Int64Index([0, 3, 5, 6, 26, 30, 31, 32, 33, 34, 35, 36, 37, 38, 41], dtype='int64'),\n",
       " Int64Index([38, 40, 42, 43, 44], dtype='int64'),\n",
       " Int64Index([  0,   1,   2,   3,   4,   5,   6,   7,   8,   9,  10,  11,  12,\n",
       "              13,  14,  16,  17,  18,  19,  20,  21,  22,  23,  24,  25,  26,\n",
       "             456, 457, 458, 463, 464, 467, 468, 469, 470, 471, 472, 473, 474,\n",
       "             475, 476, 477, 478, 479, 480, 481, 482, 483, 484, 489, 651, 692,\n",
       "             693, 737, 740, 741, 743, 773, 774, 775, 776, 777, 778, 779, 780,\n",
       "             781, 782, 783, 784, 785, 786, 787, 788, 789, 790, 791, 792, 793,\n",
       "             794, 795],\n",
       "            dtype='int64'),\n",
       " Int64Index([0, 6, 7, 8, 78, 79, 80, 81, 82], dtype='int64'),\n",
       " Int64Index([0, 1, 34, 36], dtype='int64'),\n",
       " Int64Index([0, 1, 2, 4, 5, 68, 69, 99, 100, 140, 143, 144, 145, 146, 147], dtype='int64'),\n",
       " Int64Index([0, 1, 2, 5, 6, 10, 14, 15, 16, 17], dtype='int64'),\n",
       " Int64Index([0, 14], dtype='int64'),\n",
       " Int64Index([0, 5], dtype='int64'),\n",
       " Int64Index([1], dtype='int64'),\n",
       " Int64Index([10], dtype='int64'),\n",
       " Int64Index([4], dtype='int64'),\n",
       " Int64Index([0], dtype='int64'),\n",
       " Int64Index([1], dtype='int64'),\n",
       " Int64Index([2, 12], dtype='int64'),\n",
       " Int64Index([6, 14, 15, 34], dtype='int64')]"
      ]
     },
     "execution_count": 97,
     "metadata": {},
     "output_type": "execute_result"
    }
   ],
   "source": [
    "outliers"
   ]
  },
  {
   "cell_type": "markdown",
   "metadata": {},
   "source": [
    "### 3D Visual of Inliers and Outliers of Last trip for User ID ###"
   ]
  },
  {
   "cell_type": "code",
   "execution_count": 98,
   "metadata": {},
   "outputs": [
    {
     "data": {
      "image/png": "[encoded data removed]",
      "text/plain": [
       "<Figure size 432x288 with 1 Axes>"
      ]
     },
     "metadata": {
      "needs_background": "light"
     },
     "output_type": "display_data"
    }
   ],
   "source": [
    "import matplotlib.pyplot as plt\n",
    "from sklearn.decomposition import PCA\n",
    "from sklearn.preprocessing import StandardScaler\n",
    "from mpl_toolkits.mplot3d import Axes3D\n",
    "\n",
    "isolation_numeric = (isolation_numeric.reset_index(drop=True))\n",
    "outliers = isolation_numeric.loc[isolation_numeric['anomaly']==-1]\n",
    "outlier_index=list(outliers.index)\n",
    "\n",
    "#print(isolation_numeric.head())\n",
    "#print(outlier_index)\n",
    "\n",
    "pca = PCA(n_components=3)  # Reduce to k=3 dimensions\n",
    "\n",
    "\n",
    "to_model_columns = ['x_coordinate', 'y_coordinate', 'z_coordinate','Average Velocity','Average Acceleration']\n",
    "\n",
    "#normalize the metrics\n",
    "X = scaler.fit_transform(isolation_numeric.loc[:, to_model_columns])\n",
    "X_reduce = pca.fit_transform(X)\n",
    "\n",
    "fig = plt.figure()\n",
    "ax = fig.add_subplot(111, projection='3d')\n",
    "ax.set_zlabel(\"x_composite_3\")\n",
    "\n",
    "\n",
    "# Plot the compressed data points\n",
    "ax.scatter(X_reduce[:, 0], X_reduce[:, 1], zs=X_reduce[:, 2], s=4, lw=1, label=\"inliers\",c=\"green\")\n",
    "\n",
    "\n",
    "# Plot x's for the ground truth outliers\n",
    "ax.scatter(X_reduce[outlier_index,0],X_reduce[outlier_index,1], X_reduce[outlier_index,2],\n",
    "           lw=2, s=60, marker=\"x\", c=\"red\", label=\"anomolies\")\n",
    "\n",
    "ax.legend()\n",
    "plt.show()"
   ]
  },
  {
   "cell_type": "markdown",
   "metadata": {},
   "source": [
    "### Folium Visualization 1st Confirmation ###"
   ]
  },
  {
   "cell_type": "code",
   "execution_count": 130,
   "metadata": {},
   "outputs": [
    {
     "name": "stdout",
     "output_type": "stream",
     "text": [
      "28\n"
     ]
    },
    {
     "data": {
      "text/html": [
       "<div style=\"width:100%;\"><div style=\"position:relative;width:100%;height:0;padding-bottom:60%;\"><iframe src=\"about:blank\" style=\"position:absolute;width:100%;height:100%;left:0;top:0;border:none !important;\" data-html=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 onload=\"this.contentDocument.open();this.contentDocument.write(atob(this.getAttribute('data-html')));this.contentDocument.close();\" allowfullscreen webkitallowfullscreen mozallowfullscreen></iframe></div></div>"
      ],
      "text/plain": [
       "<folium.folium.Map at 0x22201dbf1d0>"
      ]
     },
     "execution_count": 130,
     "metadata": {},
     "output_type": "execute_result"
    }
   ],
   "source": [
    "import os\n",
    "import folium\n",
    "from folium import plugins\n",
    "\n",
    "coords = list(zip(isolation_df.latitude,isolation_df.longitude))\n",
    "print(len(isolation_df))\n",
    "map_1 = folium.Map(location=[45.5017, -73.5673], zoom_start=7)\n",
    "\n",
    "for lat,lon in coords:\n",
    "    folium.CircleMarker([lat,lon], radius = 2, color = 'red').add_to(map_1)     \n",
    "    \n",
    "plugins.MarkerCluster(coords).add_to(map_1)\n",
    "map_1"
   ]
  },
  {
   "cell_type": "markdown",
   "metadata": {},
   "source": [
    "### Assessing trip purity through Approximate Entropy - Smaller Values indicate more orderly trips ###"
   ]
  },
  {
   "cell_type": "code",
   "execution_count": 112,
   "metadata": {},
   "outputs": [],
   "source": [
    "X_entropy = []\n",
    "Y_entropy = []\n",
    "Z_entropy = []\n",
    "\n",
    "from entropy import *\n",
    "\n",
    "for i in range(0,len(stop_list)):\n",
    "    try:\n",
    "        if i == 0:\n",
    "            isolation_df = temp_df.loc[:stop_list[i]]\n",
    "           \n",
    "            if len(isolation_df) < trip_length:                             # Ensures only analyzing trips of size greater than 5\n",
    "                continue\n",
    "        \n",
    "        else: \n",
    "            isolation_df = temp_df.loc[(stop_list[i-1]+1):stop_list[i]]\n",
    "            \n",
    "            if len(isolation_df) < trip_length:                             \n",
    "                continue\n",
    "    \n",
    "    except IndexError as e:                                                 # Ensures only analyzing trips of size greater than 5\n",
    "        pass\n",
    "    \n",
    "    numerics = ['int16', 'int32', 'int64', 'float16', 'float32', 'float64']\n",
    "    isolation_numeric = isolation_df.select_dtypes(include=numerics)\n",
    "    \n",
    "    X_entropy.append(app_entropy(isolation_numeric.x_coordinate.values, order=2, metric='chebyshev'))\n",
    "    Y_entropy.append(app_entropy(isolation_numeric.y_coordinate.values, order=2, metric='chebyshev'))\n",
    "    Z_entropy.append(app_entropy(isolation_numeric.z_coordinate.values, order=2, metric='chebyshev'))\n",
    "    "
   ]
  },
  {
   "cell_type": "code",
   "execution_count": 113,
   "metadata": {},
   "outputs": [
    {
     "name": "stdout",
     "output_type": "stream",
     "text": [
      "-0.05746756350049026\n",
      "-0.0686569210467001\n",
      "-0.060223969644884176\n"
     ]
    }
   ],
   "source": [
    "print(np.asarray(X_entropy).mean())\n",
    "print(np.asarray(Y_entropy).mean())\n",
    "print(np.asarray(Z_entropy).mean())"
   ]
  },
  {
   "cell_type": "code",
   "execution_count": null,
   "metadata": {},
   "outputs": [],
   "source": []
  }
 ],
 "metadata": {
  "kernelspec": {
   "display_name": "Python 3",
   "language": "python",
   "name": "python3"
  },
  "language_info": {
   "codemirror_mode": {
    "name": "ipython",
    "version": 3
   },
   "file_extension": ".py",
   "mimetype": "text/x-python",
   "name": "python",
   "nbconvert_exporter": "python",
   "pygments_lexer": "ipython3",
   "version": "3.7.3"
  }
 },
 "nbformat": 4,
 "nbformat_minor": 4
}
